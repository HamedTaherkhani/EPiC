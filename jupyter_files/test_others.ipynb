{
 "cells": [
  {
   "cell_type": "code",
   "id": "initial_id",
   "metadata": {
    "collapsed": true,
    "ExecuteTime": {
     "end_time": "2024-08-06T19:49:58.386012Z",
     "start_time": "2024-08-06T19:49:58.268475Z"
    }
   },
   "source": [
    "import json\n",
    "\n",
    "with open('./humaneval_reflexion.jsonl', 'r') as json_file:\n",
    "    json_list = list(json_file)\n",
    "ll = []\n",
    "for json_str in json_list:\n",
    "    result = json.loads(json_str)\n",
    "    ll.append(result)\n",
    "    # print(f\"result: {result}\")\n",
    "    # print(isinstance(result, dict))"
   ],
   "outputs": [
    {
     "ename": "FileNotFoundError",
     "evalue": "[Errno 2] No such file or directory: './humaneval_reflexion.jsonl'",
     "output_type": "error",
     "traceback": [
      "\u001B[0;31m---------------------------------------------------------------------------\u001B[0m",
      "\u001B[0;31mFileNotFoundError\u001B[0m                         Traceback (most recent call last)",
      "Cell \u001B[0;32mIn[1], line 3\u001B[0m\n\u001B[1;32m      1\u001B[0m \u001B[38;5;28;01mimport\u001B[39;00m \u001B[38;5;21;01mjson\u001B[39;00m\n\u001B[0;32m----> 3\u001B[0m \u001B[38;5;28;01mwith\u001B[39;00m \u001B[38;5;28;43mopen\u001B[39;49m\u001B[43m(\u001B[49m\u001B[38;5;124;43m'\u001B[39;49m\u001B[38;5;124;43m./humaneval_reflexion.jsonl\u001B[39;49m\u001B[38;5;124;43m'\u001B[39;49m\u001B[43m,\u001B[49m\u001B[43m \u001B[49m\u001B[38;5;124;43m'\u001B[39;49m\u001B[38;5;124;43mr\u001B[39;49m\u001B[38;5;124;43m'\u001B[39;49m\u001B[43m)\u001B[49m \u001B[38;5;28;01mas\u001B[39;00m json_file:\n\u001B[1;32m      4\u001B[0m     json_list \u001B[38;5;241m=\u001B[39m \u001B[38;5;28mlist\u001B[39m(json_file)\n\u001B[1;32m      5\u001B[0m ll \u001B[38;5;241m=\u001B[39m []\n",
      "File \u001B[0;32m~/VScode/PromptENG/venv3.10/lib/python3.10/site-packages/IPython/core/interactiveshell.py:308\u001B[0m, in \u001B[0;36m_modified_open\u001B[0;34m(file, *args, **kwargs)\u001B[0m\n\u001B[1;32m    301\u001B[0m \u001B[38;5;28;01mif\u001B[39;00m file \u001B[38;5;129;01min\u001B[39;00m {\u001B[38;5;241m0\u001B[39m, \u001B[38;5;241m1\u001B[39m, \u001B[38;5;241m2\u001B[39m}:\n\u001B[1;32m    302\u001B[0m     \u001B[38;5;28;01mraise\u001B[39;00m \u001B[38;5;167;01mValueError\u001B[39;00m(\n\u001B[1;32m    303\u001B[0m         \u001B[38;5;124mf\u001B[39m\u001B[38;5;124m\"\u001B[39m\u001B[38;5;124mIPython won\u001B[39m\u001B[38;5;124m'\u001B[39m\u001B[38;5;124mt let you open fd=\u001B[39m\u001B[38;5;132;01m{\u001B[39;00mfile\u001B[38;5;132;01m}\u001B[39;00m\u001B[38;5;124m by default \u001B[39m\u001B[38;5;124m\"\u001B[39m\n\u001B[1;32m    304\u001B[0m         \u001B[38;5;124m\"\u001B[39m\u001B[38;5;124mas it is likely to crash IPython. If you know what you are doing, \u001B[39m\u001B[38;5;124m\"\u001B[39m\n\u001B[1;32m    305\u001B[0m         \u001B[38;5;124m\"\u001B[39m\u001B[38;5;124myou can use builtins\u001B[39m\u001B[38;5;124m'\u001B[39m\u001B[38;5;124m open.\u001B[39m\u001B[38;5;124m\"\u001B[39m\n\u001B[1;32m    306\u001B[0m     )\n\u001B[0;32m--> 308\u001B[0m \u001B[38;5;28;01mreturn\u001B[39;00m \u001B[43mio_open\u001B[49m\u001B[43m(\u001B[49m\u001B[43mfile\u001B[49m\u001B[43m,\u001B[49m\u001B[43m \u001B[49m\u001B[38;5;241;43m*\u001B[39;49m\u001B[43margs\u001B[49m\u001B[43m,\u001B[49m\u001B[43m \u001B[49m\u001B[38;5;241;43m*\u001B[39;49m\u001B[38;5;241;43m*\u001B[39;49m\u001B[43mkwargs\u001B[49m\u001B[43m)\u001B[49m\n",
      "\u001B[0;31mFileNotFoundError\u001B[0m: [Errno 2] No such file or directory: './humaneval_reflexion.jsonl'"
     ]
    }
   ],
   "execution_count": 1
  },
  {
   "metadata": {
    "ExecuteTime": {
     "end_time": "2024-08-01T22:35:19.529810Z",
     "start_time": "2024-08-01T22:35:19.527046Z"
    }
   },
   "cell_type": "code",
   "source": "print(ll[131]['test'])",
   "id": "637804824df79959",
   "outputs": [
    {
     "name": "stdout",
     "output_type": "stream",
     "text": [
      "def check(candidate):\n",
      "    assert candidate([1.0, 2.0]) == 0.5\n",
      "    assert candidate([1.0, 2.0, 3.0, 4.0]) == 1.0\n",
      "    assert candidate([1.0, 2.0, 3.0, 4.0, 5.0]) == 1.2\n",
      "\n",
      "def test_check():\n",
      "    check(mean_absolute_deviation)\n",
      "\n",
      "test_check()\n",
      "\n"
     ]
    }
   ],
   "execution_count": 2
  },
  {
   "metadata": {
    "ExecuteTime": {
     "end_time": "2024-08-01T22:35:21.916044Z",
     "start_time": "2024-08-01T22:35:21.912505Z"
    }
   },
   "cell_type": "code",
   "source": [
    "number_of_assertions = {}\n",
    "import re\n",
    "for instance in ll:\n",
    "    a = re.findall(r'\\d+', instance['name'])[0]\n",
    "    number_of_assertions[a] = len(instance['test'].split(\"assert candidate\"))\n",
    "    \n",
    "    print(int(a[0]))"
   ],
   "id": "f390a1c14845ab9a",
   "outputs": [
    {
     "name": "stdout",
     "output_type": "stream",
     "text": [
      "2\n",
      "8\n",
      "9\n",
      "8\n",
      "1\n",
      "6\n",
      "1\n",
      "2\n",
      "4\n",
      "1\n",
      "7\n",
      "1\n",
      "5\n",
      "1\n",
      "1\n",
      "1\n",
      "2\n",
      "1\n",
      "2\n",
      "9\n",
      "3\n",
      "7\n",
      "3\n",
      "1\n",
      "1\n",
      "1\n",
      "1\n",
      "1\n",
      "1\n",
      "6\n",
      "1\n",
      "1\n",
      "1\n",
      "3\n",
      "2\n",
      "8\n",
      "1\n",
      "9\n",
      "1\n",
      "2\n",
      "8\n",
      "1\n",
      "7\n",
      "9\n",
      "9\n",
      "4\n",
      "7\n",
      "1\n",
      "1\n",
      "1\n",
      "1\n",
      "1\n",
      "5\n",
      "7\n",
      "2\n",
      "7\n",
      "3\n",
      "1\n",
      "0\n",
      "1\n",
      "1\n",
      "1\n",
      "1\n",
      "4\n",
      "1\n",
      "1\n",
      "7\n",
      "5\n",
      "1\n",
      "1\n",
      "9\n",
      "9\n",
      "2\n",
      "4\n",
      "1\n",
      "4\n",
      "1\n",
      "8\n",
      "5\n",
      "6\n",
      "2\n",
      "1\n",
      "6\n",
      "1\n",
      "1\n",
      "4\n",
      "8\n",
      "7\n",
      "1\n",
      "1\n",
      "4\n",
      "1\n",
      "1\n",
      "1\n",
      "8\n",
      "1\n",
      "1\n",
      "1\n",
      "8\n",
      "4\n",
      "1\n",
      "3\n",
      "1\n",
      "7\n",
      "1\n",
      "1\n",
      "8\n",
      "1\n",
      "1\n",
      "1\n",
      "6\n",
      "1\n",
      "9\n",
      "8\n",
      "1\n",
      "1\n",
      "1\n",
      "1\n",
      "1\n",
      "1\n",
      "1\n",
      "1\n",
      "5\n",
      "1\n",
      "5\n",
      "7\n",
      "3\n",
      "3\n",
      "6\n",
      "4\n",
      "9\n",
      "4\n",
      "5\n",
      "1\n",
      "6\n",
      "1\n",
      "1\n",
      "1\n",
      "1\n",
      "2\n",
      "1\n",
      "7\n",
      "9\n",
      "6\n",
      "1\n",
      "1\n",
      "4\n",
      "1\n",
      "8\n",
      "5\n",
      "1\n",
      "6\n",
      "2\n",
      "1\n",
      "9\n",
      "3\n",
      "6\n",
      "6\n",
      "3\n",
      "5\n",
      "5\n"
     ]
    }
   ],
   "execution_count": 3
  },
  {
   "metadata": {
    "ExecuteTime": {
     "end_time": "2024-08-01T22:35:25.097855Z",
     "start_time": "2024-08-01T22:35:25.092734Z"
    }
   },
   "cell_type": "code",
   "source": "number_of_assertions",
   "id": "75e866a51a8eb4a2",
   "outputs": [
    {
     "data": {
      "text/plain": [
       "{'23': 4,\n",
       " '89': 9,\n",
       " '95': 8,\n",
       " '85': 5,\n",
       " '140': 6,\n",
       " '63': 8,\n",
       " '151': 8,\n",
       " '22': 4,\n",
       " '41': 6,\n",
       " '17': 6,\n",
       " '79': 5,\n",
       " '14': 4,\n",
       " '53': 6,\n",
       " '159': 7,\n",
       " '115': 6,\n",
       " '160': 4,\n",
       " '27': 4,\n",
       " '105': 6,\n",
       " '25': 9,\n",
       " '96': 11,\n",
       " '34': 2,\n",
       " '74': 10,\n",
       " '35': 3,\n",
       " '132': 15,\n",
       " '103': 13,\n",
       " '113': 4,\n",
       " '109': 6,\n",
       " '107': 9,\n",
       " '138': 9,\n",
       " '62': 6,\n",
       " '126': 14,\n",
       " '161': 9,\n",
       " '130': 11,\n",
       " '36': 9,\n",
       " '29': 3,\n",
       " '84': 6,\n",
       " '129': 12,\n",
       " '98': 8,\n",
       " '120': 12,\n",
       " '24': 6,\n",
       " '88': 8,\n",
       " '106': 5,\n",
       " '77': 9,\n",
       " '93': 6,\n",
       " '91': 7,\n",
       " '43': 10,\n",
       " '71': 10,\n",
       " '148': 8,\n",
       " '131': 8,\n",
       " '101': 7,\n",
       " '18': 5,\n",
       " '137': 9,\n",
       " '51': 8,\n",
       " '70': 10,\n",
       " '20': 6,\n",
       " '76': 11,\n",
       " '39': 11,\n",
       " '145': 7,\n",
       " '0': 8,\n",
       " '10': 6,\n",
       " '11': 4,\n",
       " '139': 5,\n",
       " '122': 6,\n",
       " '46': 5,\n",
       " '104': 5,\n",
       " '117': 8,\n",
       " '72': 7,\n",
       " '55': 6,\n",
       " '153': 10,\n",
       " '119': 13,\n",
       " '90': 8,\n",
       " '92': 11,\n",
       " '2': 4,\n",
       " '42': 4,\n",
       " '150': 11,\n",
       " '49': 8,\n",
       " '155': 9,\n",
       " '80': 9,\n",
       " '59': 6,\n",
       " '66': 9,\n",
       " '21': 6,\n",
       " '121': 8,\n",
       " '68': 9,\n",
       " '147': 5,\n",
       " '110': 8,\n",
       " '47': 6,\n",
       " '82': 17,\n",
       " '73': 9,\n",
       " '133': 13,\n",
       " '141': 27,\n",
       " '40': 10,\n",
       " '127': 9,\n",
       " '1': 5,\n",
       " '152': 5,\n",
       " '83': 6,\n",
       " '134': 11,\n",
       " '124': 17,\n",
       " '108': 9,\n",
       " '86': 8,\n",
       " '48': 8,\n",
       " '118': 14,\n",
       " '31': 14,\n",
       " '144': 14,\n",
       " '78': 7,\n",
       " '143': 8,\n",
       " '111': 9,\n",
       " '87': 7,\n",
       " '123': 5,\n",
       " '135': 6,\n",
       " '19': 6,\n",
       " '65': 6,\n",
       " '142': 12,\n",
       " '94': 10,\n",
       " '8': 6,\n",
       " '102': 9,\n",
       " '136': 12,\n",
       " '16': 6,\n",
       " '100': 6,\n",
       " '128': 9,\n",
       " '114': 13,\n",
       " '15': 4,\n",
       " '154': 7,\n",
       " '57': 9,\n",
       " '12': 4,\n",
       " '52': 7,\n",
       " '75': 11,\n",
       " '30': 5,\n",
       " '33': 5,\n",
       " '6': 4,\n",
       " '45': 4,\n",
       " '97': 9,\n",
       " '4': 4,\n",
       " '58': 5,\n",
       " '156': 15,\n",
       " '67': 8,\n",
       " '112': 10,\n",
       " '13': 5,\n",
       " '125': 9,\n",
       " '116': 9,\n",
       " '28': 4,\n",
       " '149': 8,\n",
       " '7': 5,\n",
       " '99': 6,\n",
       " '64': 8,\n",
       " '158': 11,\n",
       " '162': 5,\n",
       " '44': 13,\n",
       " '157': 12,\n",
       " '81': 7,\n",
       " '5': 4,\n",
       " '146': 8,\n",
       " '60': 6,\n",
       " '26': 4,\n",
       " '163': 5,\n",
       " '9': 5,\n",
       " '3': 7,\n",
       " '69': 26,\n",
       " '61': 13,\n",
       " '37': 4,\n",
       " '54': 8,\n",
       " '56': 13}"
      ]
     },
     "execution_count": 4,
     "metadata": {},
     "output_type": "execute_result"
    }
   ],
   "execution_count": 4
  },
  {
   "metadata": {
    "ExecuteTime": {
     "end_time": "2024-08-01T22:35:33.181853Z",
     "start_time": "2024-08-01T22:35:28.928947Z"
    }
   },
   "cell_type": "code",
   "source": "from humaneval_loader import HumanEvalLoader",
   "id": "844cfdadb825aef1",
   "outputs": [
    {
     "name": "stderr",
     "output_type": "stream",
     "text": [
      "2024-08-01 18:35:30.917319: I tensorflow/core/util/port.cc:113] oneDNN custom operations are on. You may see slightly different numerical results due to floating-point round-off errors from different computation orders. To turn them off, set the environment variable `TF_ENABLE_ONEDNN_OPTS=0`.\n",
      "2024-08-01 18:35:31.225983: E external/local_xla/xla/stream_executor/cuda/cuda_dnn.cc:9261] Unable to register cuDNN factory: Attempting to register factory for plugin cuDNN when one has already been registered\n",
      "2024-08-01 18:35:31.226043: E external/local_xla/xla/stream_executor/cuda/cuda_fft.cc:607] Unable to register cuFFT factory: Attempting to register factory for plugin cuFFT when one has already been registered\n",
      "2024-08-01 18:35:31.284315: E external/local_xla/xla/stream_executor/cuda/cuda_blas.cc:1515] Unable to register cuBLAS factory: Attempting to register factory for plugin cuBLAS when one has already been registered\n",
      "2024-08-01 18:35:31.394579: I tensorflow/core/platform/cpu_feature_guard.cc:182] This TensorFlow binary is optimized to use available CPU instructions in performance-critical operations.\n",
      "To enable the following instructions: AVX2 AVX_VNNI FMA, in other operations, rebuild TensorFlow with the appropriate compiler flags.\n",
      "2024-08-01 18:35:32.063280: W tensorflow/compiler/tf2tensorrt/utils/py_utils.cc:38] TF-TRT Warning: Could not find TensorRT\n"
     ]
    }
   ],
   "execution_count": 5
  },
  {
   "metadata": {
    "ExecuteTime": {
     "end_time": "2024-08-01T22:35:35.900549Z",
     "start_time": "2024-08-01T22:35:33.182737Z"
    }
   },
   "cell_type": "code",
   "source": "aa = HumanEvalLoader(None).get_human_eval()",
   "id": "6362fd560dcc93c4",
   "outputs": [],
   "execution_count": 6
  },
  {
   "metadata": {
    "ExecuteTime": {
     "end_time": "2024-08-01T22:35:46.941230Z",
     "start_time": "2024-08-01T22:35:46.938419Z"
    }
   },
   "cell_type": "code",
   "source": "print(aa['test'][50]['prompt'])",
   "id": "1b5b4a1d50a7c7de",
   "outputs": [
    {
     "name": "stdout",
     "output_type": "stream",
     "text": [
      "\n",
      "\n",
      "def encode_shift(s: str):\n",
      "    \"\"\"\n",
      "    returns encoded string by shifting every character by 5 in the alphabet.\n",
      "    \"\"\"\n",
      "    return \"\".join([chr(((ord(ch) + 5 - ord(\"a\")) % 26) + ord(\"a\")) for ch in s])\n",
      "\n",
      "\n",
      "def decode_shift(s: str):\n",
      "    \"\"\"\n",
      "    takes as input string encoded with encode_shift function. Returns decoded string.\n",
      "    \"\"\"\n",
      "\n"
     ]
    }
   ],
   "execution_count": 7
  },
  {
   "metadata": {
    "ExecuteTime": {
     "end_time": "2024-08-01T22:35:51.157363Z",
     "start_time": "2024-08-01T22:35:51.151246Z"
    }
   },
   "cell_type": "code",
   "source": [
    "number_of_assertions2 = {}\n",
    "for index, case in enumerate(aa['test']):\n",
    "    tests = len(case['test'].split('assert candidate'))\n",
    "    number_of_assertions2[index] = tests"
   ],
   "id": "b0dae02cebe8294a",
   "outputs": [],
   "execution_count": 8
  },
  {
   "metadata": {
    "ExecuteTime": {
     "end_time": "2024-08-01T22:35:51.707041Z",
     "start_time": "2024-08-01T22:35:51.703053Z"
    }
   },
   "cell_type": "code",
   "source": "number_of_assertions2",
   "id": "f97180772f20b8a4",
   "outputs": [
    {
     "data": {
      "text/plain": [
       "{0: 8,\n",
       " 1: 5,\n",
       " 2: 2,\n",
       " 3: 7,\n",
       " 4: 1,\n",
       " 5: 4,\n",
       " 6: 4,\n",
       " 7: 5,\n",
       " 8: 6,\n",
       " 9: 5,\n",
       " 10: 6,\n",
       " 11: 4,\n",
       " 12: 4,\n",
       " 13: 5,\n",
       " 14: 4,\n",
       " 15: 4,\n",
       " 16: 6,\n",
       " 17: 6,\n",
       " 18: 5,\n",
       " 19: 6,\n",
       " 20: 6,\n",
       " 21: 6,\n",
       " 22: 4,\n",
       " 23: 4,\n",
       " 24: 6,\n",
       " 25: 9,\n",
       " 26: 4,\n",
       " 27: 4,\n",
       " 28: 4,\n",
       " 29: 3,\n",
       " 30: 5,\n",
       " 31: 14,\n",
       " 32: 1,\n",
       " 33: 1,\n",
       " 34: 2,\n",
       " 35: 3,\n",
       " 36: 9,\n",
       " 37: 1,\n",
       " 38: 2,\n",
       " 39: 11,\n",
       " 40: 10,\n",
       " 41: 6,\n",
       " 42: 4,\n",
       " 43: 10,\n",
       " 44: 8,\n",
       " 45: 4,\n",
       " 46: 5,\n",
       " 47: 6,\n",
       " 48: 8,\n",
       " 49: 8,\n",
       " 50: 2,\n",
       " 51: 8,\n",
       " 52: 5,\n",
       " 53: 7,\n",
       " 54: 8,\n",
       " 55: 6,\n",
       " 56: 5,\n",
       " 57: 9,\n",
       " 58: 5,\n",
       " 59: 6,\n",
       " 60: 6,\n",
       " 61: 5,\n",
       " 62: 6,\n",
       " 63: 8,\n",
       " 64: 8,\n",
       " 65: 6,\n",
       " 66: 9,\n",
       " 67: 8,\n",
       " 68: 9,\n",
       " 69: 26,\n",
       " 70: 10,\n",
       " 71: 10,\n",
       " 72: 7,\n",
       " 73: 9,\n",
       " 74: 10,\n",
       " 75: 11,\n",
       " 76: 11,\n",
       " 77: 9,\n",
       " 78: 8,\n",
       " 79: 5,\n",
       " 80: 9,\n",
       " 81: 7,\n",
       " 82: 17,\n",
       " 83: 6,\n",
       " 84: 6,\n",
       " 85: 5,\n",
       " 86: 8,\n",
       " 87: 7,\n",
       " 88: 8,\n",
       " 89: 9,\n",
       " 90: 8,\n",
       " 91: 7,\n",
       " 92: 11,\n",
       " 93: 6,\n",
       " 94: 10,\n",
       " 95: 8,\n",
       " 96: 11,\n",
       " 97: 9,\n",
       " 98: 8,\n",
       " 99: 6,\n",
       " 100: 6,\n",
       " 101: 7,\n",
       " 102: 9,\n",
       " 103: 13,\n",
       " 104: 5,\n",
       " 105: 6,\n",
       " 106: 5,\n",
       " 107: 9,\n",
       " 108: 9,\n",
       " 109: 6,\n",
       " 110: 8,\n",
       " 111: 9,\n",
       " 112: 10,\n",
       " 113: 4,\n",
       " 114: 13,\n",
       " 115: 6,\n",
       " 116: 9,\n",
       " 117: 8,\n",
       " 118: 14,\n",
       " 119: 13,\n",
       " 120: 12,\n",
       " 121: 8,\n",
       " 122: 6,\n",
       " 123: 5,\n",
       " 124: 17,\n",
       " 125: 9,\n",
       " 126: 14,\n",
       " 127: 9,\n",
       " 128: 9,\n",
       " 129: 12,\n",
       " 130: 11,\n",
       " 131: 8,\n",
       " 132: 15,\n",
       " 133: 13,\n",
       " 134: 11,\n",
       " 135: 6,\n",
       " 136: 12,\n",
       " 137: 9,\n",
       " 138: 9,\n",
       " 139: 5,\n",
       " 140: 6,\n",
       " 141: 27,\n",
       " 142: 12,\n",
       " 143: 8,\n",
       " 144: 14,\n",
       " 145: 7,\n",
       " 146: 8,\n",
       " 147: 5,\n",
       " 148: 8,\n",
       " 149: 8,\n",
       " 150: 11,\n",
       " 151: 8,\n",
       " 152: 5,\n",
       " 153: 10,\n",
       " 154: 1,\n",
       " 155: 9,\n",
       " 156: 15,\n",
       " 157: 12,\n",
       " 158: 1,\n",
       " 159: 7,\n",
       " 160: 4,\n",
       " 161: 9,\n",
       " 162: 5,\n",
       " 163: 5}"
      ]
     },
     "execution_count": 9,
     "metadata": {},
     "output_type": "execute_result"
    }
   ],
   "execution_count": 9
  },
  {
   "metadata": {
    "ExecuteTime": {
     "end_time": "2024-08-01T22:35:58.180088Z",
     "start_time": "2024-08-01T22:35:58.173910Z"
    }
   },
   "cell_type": "code",
   "source": [
    "numbers = 0\n",
    "for key,value in number_of_assertions2.items():\n",
    "    found = False\n",
    "    for key2,value2 in number_of_assertions.items():\n",
    "        if int(key2) == int(key):\n",
    "            found = True\n",
    "            if value2 == value:\n",
    "                # print(key, value2)\n",
    "                continue\n",
    "            else:\n",
    "                numbers += 1\n",
    "                print(key)\n",
    "    if not found:\n",
    "        print(f\"key: {key} missing\")\n",
    "print(f'total missing assertions: {numbers}:')"
   ],
   "id": "f0126a3132c2f8f7",
   "outputs": [
    {
     "name": "stdout",
     "output_type": "stream",
     "text": [
      "2\n",
      "4\n",
      "key: 32 missing\n",
      "33\n",
      "37\n",
      "key: 38 missing\n",
      "44\n",
      "key: 50 missing\n",
      "52\n",
      "53\n",
      "56\n",
      "61\n",
      "78\n",
      "154\n",
      "158\n",
      "total missing assertions: 12:\n"
     ]
    }
   ],
   "execution_count": 10
  },
  {
   "metadata": {
    "ExecuteTime": {
     "end_time": "2024-08-01T22:50:35.432524Z",
     "start_time": "2024-08-01T22:50:35.429495Z"
    }
   },
   "cell_type": "code",
   "source": [
    "print(aa['test'][154]['test'])\n",
    "print(aa['test'][154]['prompt'])"
   ],
   "id": "372b2dc8ef3d150f",
   "outputs": [
    {
     "name": "stdout",
     "output_type": "stream",
     "text": [
      "def check(candidate):\n",
      "\n",
      "    # Check some simple cases\n",
      "    #assert True, \"This prints if this assert fails 1 (good for debugging!)\"\n",
      "\n",
      "    # Check some edge cases that are easy to work out by hand.\n",
      "    #assert True, \"This prints if this assert fails 2 (also good for debugging!)\"\n",
      "    assert  candidate(\"xyzw\",\"xyw\") == False , \"test #0\"\n",
      "    assert  candidate(\"yello\",\"ell\") == True , \"test #1\"\n",
      "    assert  candidate(\"whattup\",\"ptut\") == False , \"test #2\"\n",
      "    assert  candidate(\"efef\",\"fee\") == True , \"test #3\"\n",
      "    assert  candidate(\"abab\",\"aabb\") == False , \"test #4\"\n",
      "    assert  candidate(\"winemtt\",\"tinem\") == True , \"test #5\"\n",
      "\n",
      "\n",
      "\n",
      "def cycpattern_check(a , b):\n",
      "    \"\"\"You are given 2 words. You need to return True if the second word or any of its rotations is a substring in the first word\n",
      "    cycpattern_check(\"abcd\",\"abd\") => False\n",
      "    cycpattern_check(\"hello\",\"ell\") => True\n",
      "    cycpattern_check(\"whassup\",\"psus\") => False\n",
      "    cycpattern_check(\"abab\",\"baa\") => True\n",
      "    cycpattern_check(\"efef\",\"eeff\") => False\n",
      "    cycpattern_check(\"himenss\",\"simen\") => True\n",
      "\n",
      "    \"\"\"\n",
      "\n"
     ]
    }
   ],
   "execution_count": 40
  },
  {
   "metadata": {
    "ExecuteTime": {
     "end_time": "2024-08-01T22:50:53.622985Z",
     "start_time": "2024-08-01T22:50:53.620497Z"
    }
   },
   "cell_type": "code",
   "source": "print(ll[121]['test'])",
   "id": "a448dc14ff12618e",
   "outputs": [
    {
     "name": "stdout",
     "output_type": "stream",
     "text": [
      "def check(candidate):\n",
      "    assert candidate('xyzw', 'xyw') == False\n",
      "    assert candidate('yello', 'ell') == True\n",
      "    assert candidate('whattup', 'ptut') == False\n",
      "    assert candidate('efef', 'fee') == True\n",
      "    assert candidate('abab', 'aabb') == False\n",
      "    assert candidate('winemtt', 'tinem') == True\n",
      "\n",
      "def test_check():\n",
      "    check(cycpattern_check)\n",
      "\n",
      "test_check()\n",
      "\n"
     ]
    }
   ],
   "execution_count": 42
  },
  {
   "metadata": {
    "ExecuteTime": {
     "end_time": "2024-05-15T20:15:39.690003Z",
     "start_time": "2024-05-15T20:15:39.686181Z"
    }
   },
   "cell_type": "code",
   "source": [
    "humaneval_origin = []\n",
    "import json\n",
    "\n",
    "with open('./HumanEval.jsonl/human-eval-v2-20210705.jsonl', 'r') as json_file:\n",
    "    json_list = list(json_file)\n",
    "for json_str in json_list:\n",
    "    result = json.loads(json_str)\n",
    "    humaneval_origin.append(result)"
   ],
   "id": "ef0cba2e0473176",
   "execution_count": 55,
   "outputs": []
  },
  {
   "metadata": {
    "ExecuteTime": {
     "end_time": "2024-05-15T21:19:57.127631Z",
     "start_time": "2024-05-15T21:19:57.124814Z"
    }
   },
   "cell_type": "code",
   "source": "print(humaneval_origin[50]['prompt'])",
   "id": "239efbb06c3cd5ef",
   "execution_count": 120,
   "outputs": []
  },
  {
   "metadata": {},
   "cell_type": "code",
   "execution_count": null,
   "source": [
    "mismatches = [2, 4, 33, 53, 78]\n",
    "missing_keys = [32,38,50]"
   ],
   "id": "d7edfc768353b460",
   "outputs": []
  },
  {
   "metadata": {
    "ExecuteTime": {
     "end_time": "2024-05-15T21:18:17.987042Z",
     "start_time": "2024-05-15T21:18:17.982407Z"
    }
   },
   "cell_type": "code",
   "source": [
    "## llm debuger(LDB)\n",
    "import json\n",
    "\n",
    "with open('./probs.jsonl', 'r') as json_file:\n",
    "    json_list = list(json_file)\n",
    "llm_debuger = []\n",
    "for json_str in json_list:\n",
    "    result = json.loads(json_str)\n",
    "    llm_debuger.append(result)"
   ],
   "id": "a5069511aecbf4ed",
   "execution_count": 112,
   "outputs": []
  },
  {
   "metadata": {
    "ExecuteTime": {
     "end_time": "2024-05-15T21:19:41.347618Z",
     "start_time": "2024-05-15T21:19:41.345459Z"
    }
   },
   "cell_type": "code",
   "source": "print(llm_debuger[50]['prompt'])",
   "id": "1423dd7ea5265c80",
   "execution_count": 119,
   "outputs": []
  },
  {
   "metadata": {
    "ExecuteTime": {
     "end_time": "2024-05-16T17:20:37.574015Z",
     "start_time": "2024-05-16T17:20:37.570455Z"
    }
   },
   "cell_type": "code",
   "source": [
    "## llm debuger(LDB)\n",
    "import json\n",
    "\n",
    "with open('./tests.jsonl', 'r') as json_file:\n",
    "    json_list = list(json_file)\n",
    "llm_debuger_tests = []\n",
    "for json_str in json_list:\n",
    "    result = json.loads(json_str)\n",
    "    llm_debuger_tests.append(result)"
   ],
   "id": "494aed20cad3803",
   "outputs": [],
   "execution_count": 7
  },
  {
   "metadata": {
    "ExecuteTime": {
     "end_time": "2024-05-16T17:27:06.247343Z",
     "start_time": "2024-05-16T17:27:06.244486Z"
    }
   },
   "cell_type": "code",
   "source": "print(llm_debuger_tests[50]['test'])",
   "id": "ec5fb555382ca715",
   "outputs": [
    {
     "name": "stdout",
     "output_type": "stream",
     "text": [
      "\n",
      "\n",
      "METADATA = {}\n",
      "\n",
      "\n",
      "def check(candidate):\n",
      "    from random import randint, choice\n",
      "    import copy\n",
      "    import string\n",
      "\n",
      "    letters = string.ascii_lowercase\n",
      "    for _ in range(100):\n",
      "        str = ''.join(choice(letters) for i in range(randint(10, 20)))\n",
      "        encoded_str = encode_shift(str)\n",
      "        assert candidate(copy.deepcopy(encoded_str)) == str\n",
      "\n",
      "\n"
     ]
    }
   ],
   "execution_count": 22
  },
  {
   "metadata": {
    "ExecuteTime": {
     "end_time": "2024-05-16T17:27:11.399198Z",
     "start_time": "2024-05-16T17:27:11.395976Z"
    }
   },
   "cell_type": "code",
   "source": "print(llm_debuger_tests[50]['given_tests'])",
   "id": "8071cfee55cfa9b5",
   "outputs": [
    {
     "name": "stdout",
     "output_type": "stream",
     "text": [
      "[\"assert decode_shift('fgh') == 'abc'\", \"assert decode_shift('cde') == 'xyz'\"]\n"
     ]
    }
   ],
   "execution_count": 23
  },
  {
   "metadata": {
    "ExecuteTime": {
     "end_time": "2024-05-15T21:32:25.638058Z",
     "start_time": "2024-05-15T21:32:25.635205Z"
    }
   },
   "cell_type": "code",
   "source": "print(llm_debuger_tests[163]['given_tests'])",
   "id": "f40a8f8d3e0f9c6e",
   "execution_count": 136,
   "outputs": []
  },
  {
   "metadata": {
    "ExecuteTime": {
     "end_time": "2024-05-15T21:32:32.741553Z",
     "start_time": "2024-05-15T21:32:32.739181Z"
    }
   },
   "cell_type": "code",
   "source": "print(aa['test'][163]['prompt'])",
   "id": "a33f77ba06f35bda",
   "execution_count": 137,
   "outputs": []
  },
  {
   "metadata": {
    "ExecuteTime": {
     "end_time": "2024-05-15T21:34:47.191785Z",
     "start_time": "2024-05-15T21:34:47.189019Z"
    }
   },
   "cell_type": "code",
   "source": [
    "all_llm_debuger_tests = []\n",
    "for aaa in llm_debuger_tests:\n",
    "    all_llm_debuger_tests.append(aaa['given_tests'])"
   ],
   "id": "330f544e4ca46014",
   "execution_count": 138,
   "outputs": []
  },
  {
   "metadata": {
    "ExecuteTime": {
     "end_time": "2024-05-15T21:34:50.252037Z",
     "start_time": "2024-05-15T21:34:50.246288Z"
    }
   },
   "cell_type": "code",
   "source": "all_llm_debuger_tests",
   "id": "614ae4d55c8686f8",
   "execution_count": 139,
   "outputs": []
  },
  {
   "metadata": {
    "ExecuteTime": {
     "end_time": "2024-05-16T17:19:35.077626Z",
     "start_time": "2024-05-16T17:19:30.435899Z"
    }
   },
   "cell_type": "code",
   "source": [
    "from evaluate import load\n",
    "from datasets import load_dataset\n",
    "human_eval = load_dataset(\"openai_humaneval\")"
   ],
   "id": "1711204be2ec1fac",
   "outputs": [
    {
     "name": "stderr",
     "output_type": "stream",
     "text": [
      "2024-05-16 13:19:31.957116: I tensorflow/core/util/port.cc:113] oneDNN custom operations are on. You may see slightly different numerical results due to floating-point round-off errors from different computation orders. To turn them off, set the environment variable `TF_ENABLE_ONEDNN_OPTS=0`.\n",
      "2024-05-16 13:19:31.977267: E external/local_xla/xla/stream_executor/cuda/cuda_dnn.cc:9261] Unable to register cuDNN factory: Attempting to register factory for plugin cuDNN when one has already been registered\n",
      "2024-05-16 13:19:31.977291: E external/local_xla/xla/stream_executor/cuda/cuda_fft.cc:607] Unable to register cuFFT factory: Attempting to register factory for plugin cuFFT when one has already been registered\n",
      "2024-05-16 13:19:31.977844: E external/local_xla/xla/stream_executor/cuda/cuda_blas.cc:1515] Unable to register cuBLAS factory: Attempting to register factory for plugin cuBLAS when one has already been registered\n",
      "2024-05-16 13:19:31.981514: I tensorflow/core/platform/cpu_feature_guard.cc:182] This TensorFlow binary is optimized to use available CPU instructions in performance-critical operations.\n",
      "To enable the following instructions: AVX2 AVX_VNNI FMA, in other operations, rebuild TensorFlow with the appropriate compiler flags.\n",
      "2024-05-16 13:19:32.575741: W tensorflow/compiler/tf2tensorrt/utils/py_utils.cc:38] TF-TRT Warning: Could not find TensorRT\n"
     ]
    },
    {
     "data": {
      "text/plain": [
       "Generating test split:   0%|          | 0/164 [00:00<?, ? examples/s]"
      ],
      "application/vnd.jupyter.widget-view+json": {
       "version_major": 2,
       "version_minor": 0,
       "model_id": "1a34f97a250b4f5c9e72f3f12e96f856"
      }
     },
     "metadata": {},
     "output_type": "display_data"
    }
   ],
   "execution_count": 1
  },
  {
   "metadata": {
    "ExecuteTime": {
     "end_time": "2024-05-16T17:20:10.272708Z",
     "start_time": "2024-05-16T17:20:10.270383Z"
    }
   },
   "cell_type": "code",
   "source": "print(human_eval['test'][38]['prompt'])",
   "id": "76dc236706d7eae5",
   "outputs": [
    {
     "name": "stdout",
     "output_type": "stream",
     "text": [
      "\n",
      "\n",
      "def encode_cyclic(s: str):\n",
      "    \"\"\"\n",
      "    returns encoded string by cycling groups of three characters.\n",
      "    \"\"\"\n",
      "    # split string to groups. Each of length 3.\n",
      "    groups = [s[(3 * i):min((3 * i + 3), len(s))] for i in range((len(s) + 2) // 3)]\n",
      "    # cycle elements in each group. Unless group has fewer elements than 3.\n",
      "    groups = [(group[1:] + group[0]) if len(group) == 3 else group for group in groups]\n",
      "    return \"\".join(groups)\n",
      "\n",
      "\n",
      "def decode_cyclic(s: str):\n",
      "    \"\"\"\n",
      "    takes as input string encoded with encode_cyclic function. Returns decoded string.\n",
      "    \"\"\"\n",
      "\n"
     ]
    }
   ],
   "execution_count": 4
  },
  {
   "metadata": {
    "ExecuteTime": {
     "end_time": "2024-05-16T17:28:44.529722Z",
     "start_time": "2024-05-16T17:28:44.526723Z"
    }
   },
   "cell_type": "code",
   "source": [
    "from random import randint, choice\n",
    "import copy\n",
    "import string\n",
    "\n",
    "letters = string.ascii_lowercase\n",
    "for _ in range(100):\n",
    "        str = ''.join(choice(letters) for i in range(randint(10, 20)))\n",
    "        print(str)\n",
    "        break"
   ],
   "id": "7f818cf6858a88ff",
   "outputs": [
    {
     "name": "stdout",
     "output_type": "stream",
     "text": [
      "plqppmxbabqbsjt\n"
     ]
    }
   ],
   "execution_count": 24
  },
  {
   "metadata": {},
   "cell_type": "code",
   "outputs": [],
   "execution_count": null,
   "source": "",
   "id": "3c46999895bbf280"
  }
 ],
 "metadata": {
  "kernelspec": {
   "display_name": "Python 3",
   "language": "python",
   "name": "python3"
  },
  "language_info": {
   "codemirror_mode": {
    "name": "ipython",
    "version": 2
   },
   "file_extension": ".py",
   "mimetype": "text/x-python",
   "name": "python",
   "nbconvert_exporter": "python",
   "pygments_lexer": "ipython2",
   "version": "2.7.6"
  }
 },
 "nbformat": 4,
 "nbformat_minor": 5
}
