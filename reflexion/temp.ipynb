{
 "cells": [
  {
   "cell_type": "code",
   "id": "initial_id",
   "metadata": {
    "collapsed": true,
    "ExecuteTime": {
     "end_time": "2024-06-04T22:44:44.919151Z",
     "start_time": "2024-06-04T22:44:43.676420Z"
    }
   },
   "source": [
    "import json\n",
    "\n",
    "with open('humaneval-py.jsonl', 'r') as json_file:\n",
    "    json_list = list(json_file)\n",
    "all_tests = []\n",
    "for json_str in json_list:\n",
    "    result = json.loads(json_str)\n",
    "    all_tests.append(result)\n",
    "from humaneval_loader import HumanEvalLoader\n",
    "human_eval = HumanEvalLoader().get_human_eval()\n"
   ],
   "outputs": [],
   "execution_count": 195
  },
  {
   "metadata": {
    "ExecuteTime": {
     "end_time": "2024-06-04T22:44:44.922622Z",
     "start_time": "2024-06-04T22:44:44.920003Z"
    }
   },
   "cell_type": "code",
   "source": "all_tests[0]",
   "id": "fedeb85f03a40ca6",
   "outputs": [
    {
     "data": {
      "text/plain": [
       "{'name': 'HumanEval_23_strlen',\n",
       " 'language': 'py',\n",
       " 'prompt': 'def strlen(string: str) -> int:\\n    \"\"\" Return length of given string\\n    >>> strlen(\\'\\')\\n    0\\n    >>> strlen(\\'abc\\')\\n    3\\n    \"\"\"\\n',\n",
       " 'doctests': 'transform',\n",
       " 'original': '/home/arjun/repos/nuprl/MultiPL-E/datasets/../datasets/originals-with-cleaned-doctests/HumanEval_23_strlen.py',\n",
       " 'prompt_terminology': 'reworded',\n",
       " 'stop_tokens': ['\\ndef', '\\n#', '\\nif', '\\nclass'],\n",
       " 'entry_point': 'strlen',\n",
       " 'test': \"def check(candidate):\\n    assert candidate('') == 0\\n    assert candidate('x') == 1\\n    assert candidate('asdasnakj') == 9\\n\\ndef test_check():\\n    check(strlen)\\n\\ntest_check()\\n\"}"
      ]
     },
     "execution_count": 196,
     "metadata": {},
     "output_type": "execute_result"
    }
   ],
   "execution_count": 196
  },
  {
   "metadata": {
    "ExecuteTime": {
     "end_time": "2024-06-04T22:44:44.930430Z",
     "start_time": "2024-06-04T22:44:44.923256Z"
    }
   },
   "cell_type": "code",
   "source": "human_eval['test'][0]",
   "id": "cb8da7736584a9fc",
   "outputs": [
    {
     "data": {
      "text/plain": [
       "{'task_id': 'HumanEval/0',\n",
       " 'prompt': 'from typing import List\\n\\n\\ndef has_close_elements(numbers: List[float], threshold: float) -> bool:\\n    \"\"\" Check if in given list of numbers, are any two numbers closer to each other than\\n    given threshold.\\n    >>> has_close_elements([1.0, 2.0, 3.0], 0.5)\\n    False\\n    >>> has_close_elements([1.0, 2.8, 3.0, 4.0, 5.0, 2.0], 0.3)\\n    True\\n    \"\"\"\\n',\n",
       " 'canonical_solution': '    for idx, elem in enumerate(numbers):\\n        for idx2, elem2 in enumerate(numbers):\\n            if idx != idx2:\\n                distance = abs(elem - elem2)\\n                if distance < threshold:\\n                    return True\\n\\n    return False\\n',\n",
       " 'test': \"\\n\\nMETADATA = {\\n    'author': 'jt',\\n    'dataset': 'test'\\n}\\n\\n\\ndef check(candidate):\\n    assert candidate([1.0, 2.0, 3.9, 4.0, 5.0, 2.2], 0.3) == True\\n    assert candidate([1.0, 2.0, 3.9, 4.0, 5.0, 2.2], 0.05) == False\\n    assert candidate([1.0, 2.0, 5.9, 4.0, 5.0], 0.95) == True\\n    assert candidate([1.0, 2.0, 5.9, 4.0, 5.0], 0.8) == False\\n    assert candidate([1.0, 2.0, 3.0, 4.0, 5.0, 2.0], 0.1) == True\\n    assert candidate([1.1, 2.2, 3.1, 4.1, 5.1], 1.0) == True\\n    assert candidate([1.1, 2.2, 3.1, 4.1, 5.1], 0.5) == False\\n\\n\",\n",
       " 'entry_point': 'has_close_elements'}"
      ]
     },
     "execution_count": 197,
     "metadata": {},
     "output_type": "execute_result"
    }
   ],
   "execution_count": 197
  },
  {
   "metadata": {
    "ExecuteTime": {
     "end_time": "2024-06-04T22:44:44.933750Z",
     "start_time": "2024-06-04T22:44:44.931217Z"
    }
   },
   "cell_type": "code",
   "source": [
    "import re\n",
    "re.findall(r\"\\d+\", human_eval['test'][0]['task_id'])"
   ],
   "id": "58a2fb30c0141cde",
   "outputs": [
    {
     "data": {
      "text/plain": [
       "['0']"
      ]
     },
     "execution_count": 198,
     "metadata": {},
     "output_type": "execute_result"
    }
   ],
   "execution_count": 198
  },
  {
   "metadata": {
    "ExecuteTime": {
     "end_time": "2024-06-04T22:44:45.460374Z",
     "start_time": "2024-06-04T22:44:45.436851Z"
    }
   },
   "cell_type": "code",
   "source": [
    "missing_keys = [32,38,50]\n",
    "import re\n",
    "for instance in human_eval['test']:\n",
    "    instance_id = int(re.findall(r\"\\d+\",instance['task_id'])[0])\n",
    "    for idx,a_test in enumerate(all_tests):\n",
    "        test_id = int(re.findall(r'\\d+', a_test['name'])[0])\n",
    "        if test_id == instance_id:\n",
    "            all_tests[idx]['test'] = human_eval['test'][test_id]['test'] + \"\\ndef \" + a_test['test'].split('def ')[2]\n",
    "            print(test_id)\n",
    "            break\n",
    "        "
   ],
   "id": "44766ca72dd4cff6",
   "outputs": [
    {
     "name": "stdout",
     "output_type": "stream",
     "text": [
      "0\n",
      "1\n",
      "2\n",
      "3\n",
      "4\n",
      "5\n",
      "6\n",
      "7\n",
      "8\n",
      "9\n",
      "10\n",
      "11\n",
      "12\n",
      "13\n",
      "14\n",
      "15\n",
      "16\n",
      "17\n",
      "18\n",
      "19\n",
      "20\n",
      "21\n",
      "22\n",
      "23\n",
      "24\n",
      "25\n",
      "26\n",
      "27\n",
      "28\n",
      "29\n",
      "30\n",
      "31\n",
      "33\n",
      "34\n",
      "35\n",
      "36\n",
      "37\n",
      "39\n",
      "40\n",
      "41\n",
      "42\n",
      "43\n",
      "44\n",
      "45\n",
      "46\n",
      "47\n",
      "48\n",
      "49\n",
      "51\n",
      "52\n",
      "53\n",
      "54\n",
      "55\n",
      "56\n",
      "57\n",
      "58\n",
      "59\n",
      "60\n",
      "61\n",
      "62\n",
      "63\n",
      "64\n",
      "65\n",
      "66\n",
      "67\n",
      "68\n",
      "69\n",
      "70\n",
      "71\n",
      "72\n",
      "73\n",
      "74\n",
      "75\n",
      "76\n",
      "77\n",
      "78\n",
      "79\n",
      "80\n",
      "81\n",
      "82\n",
      "83\n",
      "84\n",
      "85\n",
      "86\n",
      "87\n",
      "88\n",
      "89\n",
      "90\n",
      "91\n",
      "92\n",
      "93\n",
      "94\n",
      "95\n",
      "96\n",
      "97\n",
      "98\n",
      "99\n",
      "100\n",
      "101\n",
      "102\n",
      "103\n",
      "104\n",
      "105\n",
      "106\n",
      "107\n",
      "108\n",
      "109\n",
      "110\n",
      "111\n",
      "112\n",
      "113\n",
      "114\n",
      "115\n",
      "116\n",
      "117\n",
      "118\n",
      "119\n",
      "120\n",
      "121\n",
      "122\n",
      "123\n",
      "124\n",
      "125\n",
      "126\n",
      "127\n",
      "128\n",
      "129\n",
      "130\n",
      "131\n",
      "132\n",
      "133\n",
      "134\n",
      "135\n",
      "136\n",
      "137\n",
      "138\n",
      "139\n",
      "140\n",
      "141\n",
      "142\n",
      "143\n",
      "144\n",
      "145\n",
      "146\n",
      "147\n",
      "148\n",
      "149\n",
      "150\n",
      "151\n",
      "152\n",
      "153\n",
      "154\n",
      "155\n",
      "156\n",
      "157\n",
      "158\n",
      "159\n",
      "160\n",
      "161\n",
      "162\n",
      "163\n"
     ]
    }
   ],
   "execution_count": 199
  },
  {
   "metadata": {
    "ExecuteTime": {
     "end_time": "2024-06-04T22:44:46.227362Z",
     "start_time": "2024-06-04T22:44:46.224591Z"
    }
   },
   "cell_type": "code",
   "source": "print(all_tests[90]['prompt'])",
   "id": "ef1f2f3597fb5669",
   "outputs": [
    {
     "name": "stdout",
     "output_type": "stream",
     "text": [
      "from typing import List\n",
      "\n",
      "def triples_sum_to_zero(l: List[int]) -> bool:\n",
      "    \"\"\"\n",
      "    triples_sum_to_zero takes a list of integers as an input.\n",
      "    it returns True if there are three distinct elements in the list that\n",
      "    sum to zero, and False otherwise.\n",
      "\n",
      "    >>> triples_sum_to_zero([1, 3, 5, 0])\n",
      "    False\n",
      "    >>> triples_sum_to_zero([1, 3, -2, 1])\n",
      "    True\n",
      "    >>> triples_sum_to_zero([1, 2, 3, 7])\n",
      "    False\n",
      "    >>> triples_sum_to_zero([2, 4, -5, 3, 9, 7])\n",
      "    True\n",
      "    >>> triples_sum_to_zero([1])\n",
      "    False\n",
      "    \"\"\"\n",
      "\n"
     ]
    }
   ],
   "execution_count": 200
  },
  {
   "metadata": {
    "ExecuteTime": {
     "end_time": "2024-06-04T22:44:46.695528Z",
     "start_time": "2024-06-04T22:44:46.691842Z"
    }
   },
   "cell_type": "code",
   "source": "print(human_eval['test'][85]['test'])",
   "id": "3af57f908b72aba4",
   "outputs": [
    {
     "name": "stdout",
     "output_type": "stream",
     "text": [
      "def check(candidate):\n",
      "\n",
      "    # Check some simple cases\n",
      "    assert candidate([4, 88]) == 88\n",
      "    assert candidate([4, 5, 6, 7, 2, 122]) == 122\n",
      "    assert candidate([4, 0, 6, 7]) == 0\n",
      "    assert candidate([4, 4, 6, 8]) == 12\n",
      "\n",
      "    # Check some edge cases that are easy to work out by hand.\n",
      "    \n",
      "\n"
     ]
    }
   ],
   "execution_count": 201
  },
  {
   "metadata": {
    "ExecuteTime": {
     "end_time": "2024-06-04T22:44:47.175584Z",
     "start_time": "2024-06-04T22:44:47.171688Z"
    }
   },
   "cell_type": "code",
   "source": "human_eval['test'][32]",
   "id": "846fb2c2c74e905",
   "outputs": [
    {
     "data": {
      "text/plain": [
       "{'task_id': 'HumanEval/32',\n",
       " 'prompt': 'import math\\n\\n\\ndef poly(xs: list, x: float):\\n    \"\"\"\\n    Evaluates polynomial with coefficients xs at point x.\\n    return xs[0] + xs[1] * x + xs[1] * x^2 + .... xs[n] * x^n\\n    \"\"\"\\n    return sum([coeff * math.pow(x, i) for i, coeff in enumerate(xs)])\\n\\n\\ndef find_zero(xs: list):\\n    \"\"\" xs are coefficients of a polynomial.\\n    find_zero find x such that poly(x) = 0.\\n    find_zero returns only only zero point, even if there are many.\\n    Moreover, find_zero only takes list xs having even number of coefficients\\n    and largest non zero coefficient as it guarantees\\n    a solution.\\n    >>> round(find_zero([1, 2]), 2) # f(x) = 1 + 2x\\n    -0.5\\n    >>> round(find_zero([-6, 11, -6, 1]), 2) # (x - 1) * (x - 2) * (x - 3) = -6 + 11x - 6x^2 + x^3\\n    1.0\\n    \"\"\"\\n',\n",
       " 'canonical_solution': '    begin, end = -1., 1.\\n    while poly(xs, begin) * poly(xs, end) > 0:\\n        begin *= 2.0\\n        end *= 2.0\\n    while end - begin > 1e-10:\\n        center = (begin + end) / 2.0\\n        if poly(xs, center) * poly(xs, begin) > 0:\\n            begin = center\\n        else:\\n            end = center\\n    return begin\\n',\n",
       " 'test': '\\n\\nMETADATA = {}\\n\\n\\ndef check(candidate):\\n    import math\\n    import random\\n    rng = random.Random(42)\\n    import copy\\n    for _ in range(100):\\n        ncoeff = 2 * rng.randint(1, 4)\\n        coeffs = []\\n        for _ in range(ncoeff):\\n            coeff = rng.randint(-10, 10)\\n            if coeff == 0:\\n                coeff = 1\\n            coeffs.append(coeff)\\n        solution = candidate(copy.deepcopy(coeffs))\\n        assert math.fabs(poly(coeffs, solution)) < 1e-4\\n\\n',\n",
       " 'entry_point': 'find_zero'}"
      ]
     },
     "execution_count": 202,
     "metadata": {},
     "output_type": "execute_result"
    }
   ],
   "execution_count": 202
  },
  {
   "metadata": {
    "ExecuteTime": {
     "end_time": "2024-06-04T22:44:47.804362Z",
     "start_time": "2024-06-04T22:44:47.799347Z"
    }
   },
   "cell_type": "code",
   "source": [
    "### inserting missing instances\n",
    "all_tests.append({\n",
    "    'name':\"HumanEval_32_poly\",\n",
    "    'language':\"py\",\n",
    "    'prompt':human_eval['test'][32]['prompt'],\n",
    "    'doctests':\"transform\",\n",
    "    'original':\"/home/arjun/repos/nuprl/MultiPL-E/datasets/../datasets/originals-with-cleaned-doctests/HumanEval_85_add.py\",\n",
    "    'prompt_terminology':\"reworded\",\n",
    "    'stop_tokens':['\\ndef', '\\n#', '\\nif', '\\nclass'],\n",
    "    'entry_point':\"poly\",\n",
    "    'test':human_eval['test'][32]['test'] + \"def test_check():\\n check(poly) \\ntest_check()\"\n",
    "})\n",
    "all_tests.append({\n",
    "    'name':\"HumanEval_38_encode_cyclic\",\n",
    "    'language':\"py\",\n",
    "    'prompt':human_eval['test'][38]['prompt'],\n",
    "    'doctests':\"transform\",\n",
    "    'original':\"/home/arjun/repos/nuprl/MultiPL-E/datasets/../datasets/originals-with-cleaned-doctests/HumanEval_85_add.py\",\n",
    "    'prompt_terminology':\"reworded\",\n",
    "    'stop_tokens':['\\ndef', '\\n#', '\\nif', '\\nclass'],\n",
    "    'entry_point':\"decode_cyclic\",\n",
    "    'test':human_eval['test'][38]['test'] + \"def test_check():\\n check(decode_cyclic) \\ntest_check()\"\n",
    "})\n",
    "all_tests.append({\n",
    "    'name':\"HumanEval_50_encode_shift\",\n",
    "    'language':\"py\",\n",
    "    'prompt':human_eval['test'][50]['prompt'],\n",
    "    'doctests':\"transform\",\n",
    "    'original':\"/home/arjun/repos/nuprl/MultiPL-E/datasets/../datasets/originals-with-cleaned-doctests/HumanEval_85_add.py\",\n",
    "    'prompt_terminology':\"reworded\",\n",
    "    'stop_tokens':['\\ndef', '\\n#', '\\nif', '\\nclass'],\n",
    "    'entry_point':\"decode_shift\",\n",
    "    'test':human_eval['test'][50]['test'] + \"def test_check():\\n check(decode_shift) \\ntest_check()\"\n",
    "})"
   ],
   "id": "e9f0164eaf98a41e",
   "outputs": [],
   "execution_count": 203
  },
  {
   "metadata": {
    "ExecuteTime": {
     "end_time": "2024-06-04T22:44:48.466323Z",
     "start_time": "2024-06-04T22:44:48.463314Z"
    }
   },
   "cell_type": "code",
   "source": "human_eval['test'][38]['prompt']",
   "id": "4e62becfbaf819d0",
   "outputs": [
    {
     "data": {
      "text/plain": [
       "'\\n\\ndef encode_cyclic(s: str):\\n    \"\"\"\\n    returns encoded string by cycling groups of three characters.\\n    \"\"\"\\n    # split string to groups. Each of length 3.\\n    groups = [s[(3 * i):min((3 * i + 3), len(s))] for i in range((len(s) + 2) // 3)]\\n    # cycle elements in each group. Unless group has fewer elements than 3.\\n    groups = [(group[1:] + group[0]) if len(group) == 3 else group for group in groups]\\n    return \"\".join(groups)\\n\\n\\ndef decode_cyclic(s: str):\\n    \"\"\"\\n    takes as input string encoded with encode_cyclic function. Returns decoded string.\\n    \"\"\"\\n'"
      ]
     },
     "execution_count": 204,
     "metadata": {},
     "output_type": "execute_result"
    }
   ],
   "execution_count": 204
  },
  {
   "metadata": {
    "ExecuteTime": {
     "end_time": "2024-06-04T22:44:48.686973Z",
     "start_time": "2024-06-04T22:44:48.683821Z"
    }
   },
   "cell_type": "code",
   "source": "print(all_tests[163]['test'])",
   "id": "b411238d719cf39",
   "outputs": [
    {
     "name": "stdout",
     "output_type": "stream",
     "text": [
      "\n",
      "\n",
      "METADATA = {}\n",
      "\n",
      "\n",
      "def check(candidate):\n",
      "    from random import randint, choice\n",
      "    import copy\n",
      "    import string\n",
      "\n",
      "    letters = string.ascii_lowercase\n",
      "    for _ in range(100):\n",
      "        str = ''.join(choice(letters) for i in range(randint(10, 20)))\n",
      "        encoded_str = encode_shift(str)\n",
      "        assert candidate(copy.deepcopy(encoded_str)) == str\n",
      "\n",
      "def test_check():\n",
      " check(decode_shift) \n",
      "test_check()\n"
     ]
    }
   ],
   "execution_count": 205
  },
  {
   "metadata": {
    "ExecuteTime": {
     "end_time": "2024-06-04T22:44:49.538320Z",
     "start_time": "2024-06-04T22:44:49.532344Z"
    }
   },
   "cell_type": "code",
   "source": [
    "with open('real-humaneval-py.jsonl', 'w') as outfile:\n",
    "    for idx,entry in enumerate(all_tests):\n",
    "        json.dump(entry, outfile)\n",
    "        outfile.write('\\n')"
   ],
   "id": "f53a270a6a5c9d59",
   "outputs": [],
   "execution_count": 206
  },
  {
   "metadata": {
    "ExecuteTime": {
     "end_time": "2024-06-04T22:44:50.745441Z",
     "start_time": "2024-06-04T22:44:50.740116Z"
    }
   },
   "cell_type": "code",
   "source": [
    "import json\n",
    "\n",
    "with open('humaneval-py.jsonl', 'r') as json_file:\n",
    "    json_list = list(json_file)\n",
    "all_tests = []\n",
    "for json_str in json_list:\n",
    "    result = json.loads(json_str)\n",
    "    all_tests.append(result)\n",
    "\n",
    "with open('real-humaneval-py.jsonl', 'r') as json_file:\n",
    "    json_list = list(json_file)\n",
    "all_tests2 = []\n",
    "for json_str in json_list:\n",
    "    result = json.loads(json_str)\n",
    "    all_tests2.append(result)\n"
   ],
   "id": "cc31126b4e35149f",
   "outputs": [],
   "execution_count": 207
  },
  {
   "metadata": {
    "ExecuteTime": {
     "end_time": "2024-06-04T22:44:51.452968Z",
     "start_time": "2024-06-04T22:44:51.450267Z"
    }
   },
   "cell_type": "code",
   "source": "print(all_tests[160]['test'])",
   "id": "539a530baf61db04",
   "outputs": [
    {
     "name": "stdout",
     "output_type": "stream",
     "text": [
      "def check(candidate):\n",
      "    assert candidate('<>') == True\n",
      "    assert candidate('<<><>>') == True\n",
      "    assert candidate('<><><<><>><>') == True\n",
      "    assert candidate('<><><<<><><>><>><<><><<>>>') == True\n",
      "    assert candidate('<<<><>>>>') == False\n",
      "    assert candidate('><<>') == False\n",
      "    assert candidate('<') == False\n",
      "    assert candidate('<<<<') == False\n",
      "    assert candidate('>') == False\n",
      "    assert candidate('<<>') == False\n",
      "    assert candidate('<><><<><>><>><<>') == False\n",
      "    assert candidate('<><><<><>><>>><>') == False\n",
      "\n",
      "def test_check():\n",
      "    check(correct_bracketing)\n",
      "\n",
      "test_check()\n",
      "\n"
     ]
    }
   ],
   "execution_count": 208
  },
  {
   "metadata": {
    "ExecuteTime": {
     "end_time": "2024-06-04T22:46:12.719055Z",
     "start_time": "2024-06-04T22:46:12.716485Z"
    }
   },
   "cell_type": "code",
   "source": "print(all_tests2[162]['prompt'])",
   "id": "358a1e401c795370",
   "outputs": [
    {
     "name": "stdout",
     "output_type": "stream",
     "text": [
      "\n",
      "\n",
      "def encode_cyclic(s: str):\n",
      "    \"\"\"\n",
      "    returns encoded string by cycling groups of three characters.\n",
      "    \"\"\"\n",
      "    # split string to groups. Each of length 3.\n",
      "    groups = [s[(3 * i):min((3 * i + 3), len(s))] for i in range((len(s) + 2) // 3)]\n",
      "    # cycle elements in each group. Unless group has fewer elements than 3.\n",
      "    groups = [(group[1:] + group[0]) if len(group) == 3 else group for group in groups]\n",
      "    return \"\".join(groups)\n",
      "\n",
      "\n",
      "def decode_cyclic(s: str):\n",
      "    \"\"\"\n",
      "    takes as input string encoded with encode_cyclic function. Returns decoded string.\n",
      "    \"\"\"\n",
      "\n"
     ]
    }
   ],
   "execution_count": 214
  },
  {
   "metadata": {
    "ExecuteTime": {
     "end_time": "2024-06-05T05:05:59.180061Z",
     "start_time": "2024-06-05T05:05:53.856826Z"
    }
   },
   "cell_type": "code",
   "source": [
    "from humaneval_loader import HumanEvalLoader\n",
    "human_eval = HumanEvalLoader().get_human_eval()\n"
   ],
   "id": "10c488ec96a4eb97",
   "outputs": [
    {
     "name": "stderr",
     "output_type": "stream",
     "text": [
      "2024-06-05 01:05:55.110846: I tensorflow/core/util/port.cc:113] oneDNN custom operations are on. You may see slightly different numerical results due to floating-point round-off errors from different computation orders. To turn them off, set the environment variable `TF_ENABLE_ONEDNN_OPTS=0`.\n",
      "2024-06-05 01:05:55.133171: E external/local_xla/xla/stream_executor/cuda/cuda_dnn.cc:9261] Unable to register cuDNN factory: Attempting to register factory for plugin cuDNN when one has already been registered\n",
      "2024-06-05 01:05:55.133199: E external/local_xla/xla/stream_executor/cuda/cuda_fft.cc:607] Unable to register cuFFT factory: Attempting to register factory for plugin cuFFT when one has already been registered\n",
      "2024-06-05 01:05:55.134020: E external/local_xla/xla/stream_executor/cuda/cuda_blas.cc:1515] Unable to register cuBLAS factory: Attempting to register factory for plugin cuBLAS when one has already been registered\n",
      "2024-06-05 01:05:55.138321: I tensorflow/core/platform/cpu_feature_guard.cc:182] This TensorFlow binary is optimized to use available CPU instructions in performance-critical operations.\n",
      "To enable the following instructions: AVX2 AVX_VNNI FMA, in other operations, rebuild TensorFlow with the appropriate compiler flags.\n",
      "2024-06-05 01:05:55.617835: W tensorflow/compiler/tf2tensorrt/utils/py_utils.cc:38] TF-TRT Warning: Could not find TensorRT\n"
     ]
    }
   ],
   "execution_count": 1
  },
  {
   "metadata": {
    "ExecuteTime": {
     "end_time": "2024-06-05T05:06:01.830938Z",
     "start_time": "2024-06-05T05:06:00.713088Z"
    }
   },
   "cell_type": "code",
   "source": "tests = HumanEvalLoader().get_final_test_cases()",
   "id": "1aa231cb9883feb3",
   "outputs": [],
   "execution_count": 2
  },
  {
   "metadata": {
    "ExecuteTime": {
     "end_time": "2024-06-05T05:07:41.374137Z",
     "start_time": "2024-06-05T05:07:41.371738Z"
    }
   },
   "cell_type": "code",
   "source": "print(tests[1])",
   "id": "bd07906e49ebbca6",
   "outputs": [
    {
     "name": "stdout",
     "output_type": "stream",
     "text": [
      "\n",
      "\n",
      "METADATA = {\n",
      "    'author': 'jt',\n",
      "    'dataset': 'test'\n",
      "}\n",
      "\n",
      "\n",
      "def check(candidate):\n",
      "    assert candidate('(()()) ((())) () ((())()())') == [\n",
      "        '(()())', '((()))', '()', '((())()())'\n",
      "    ]\n",
      "    assert candidate('() (()) ((())) (((())))') == [\n",
      "        '()', '(())', '((()))', '(((())))'\n",
      "    ]\n",
      "    assert candidate('(()(())((())))') == [\n",
      "        '(()(())((())))'\n",
      "    ]\n",
      "    assert candidate('( ) (( )) (( )( ))') == ['()', '(())', '(()())']\n",
      "\n",
      "check(separate_paren_groups)\n"
     ]
    }
   ],
   "execution_count": 13
  },
  {
   "metadata": {
    "ExecuteTime": {
     "end_time": "2024-06-05T05:07:45.588701Z",
     "start_time": "2024-06-05T05:07:45.585475Z"
    }
   },
   "cell_type": "code",
   "source": "print(human_eval['test'][1]['prompt'])",
   "id": "6d7c086382d8ec7f",
   "outputs": [
    {
     "name": "stdout",
     "output_type": "stream",
     "text": [
      "from typing import List\n",
      "\n",
      "\n",
      "def separate_paren_groups(paren_string: str) -> List[str]:\n",
      "    \"\"\" Input to this function is a string containing multiple groups of nested parentheses. Your goal is to\n",
      "    separate those group into separate strings and return the list of those.\n",
      "    Separate groups are balanced (each open brace is properly closed) and not nested within each other\n",
      "    Ignore any spaces in the input string.\n",
      "    >>> separate_paren_groups('( ) (( )) (( )( ))')\n",
      "    ['()', '(())', '(()())']\n",
      "    \"\"\"\n",
      "\n"
     ]
    }
   ],
   "execution_count": 14
  },
  {
   "metadata": {
    "ExecuteTime": {
     "end_time": "2024-06-19T00:29:33.335183Z",
     "start_time": "2024-06-19T00:29:30.884588Z"
    }
   },
   "cell_type": "code",
   "source": [
    "from MBPPLoader import MBPPLoader\n",
    "mbpp = MBPPLoader()\n",
    "dataset = mbpp.get_dataset()\n",
    "prompts = mbpp.get_prompts()\n",
    "func_names = mbpp.get_func_names()\n",
    "mbpp_probs = []\n",
    "for idx,entry in enumerate(dataset):\n",
    "    # print(entry)\n",
    "    func_name = func_names[idx]\n",
    "    # print(func_name)\n",
    "    tests = '\\ndef check(candidate):\\n    ' + '\\n    '.join(entry['test_list']) + f'\\ncheck({func_name})'\n",
    "    mbpp_probs.append({\n",
    "        'name': \"mbpp_\" + str(entry['task_id']) + \"_\" + func_name,\n",
    "        'language': \"py\",\n",
    "        'prompt': prompts[idx],\n",
    "        \"doctests\": \"transform\",\n",
    "        \"original\": \"/home/arjun/repos/MultiPL-E/datasets/../datasets/mbpp-typed/\" + \"mbpp_\" + str(entry['task_id']) + \"_\" + func_name,\n",
    "        \"prompt_terminology\": \"reworded\",\n",
    "        \"stop_tokens\": [\"\\ndef\", \"\\n#\", \"\\nif\", \"\\nclass\"],\n",
    "        'entry_point': func_name,\n",
    "        'test': tests,\n",
    "    })"
   ],
   "id": "c8f8eb22b49fc9af",
   "outputs": [],
   "execution_count": 1
  },
  {
   "metadata": {
    "ExecuteTime": {
     "end_time": "2024-06-19T00:29:38.591218Z",
     "start_time": "2024-06-19T00:29:38.587307Z"
    }
   },
   "cell_type": "code",
   "source": "mbpp_probs[0]",
   "id": "a5b759df3c32447c",
   "outputs": [
    {
     "data": {
      "text/plain": [
       "{'name': 'mbpp_602_first_repeated_char',\n",
       " 'language': 'py',\n",
       " 'prompt': 'def first_repeated_char(str1):\\n  \"\"\"Write a python function to find the first repeated character in a given string.\"\"\"',\n",
       " 'doctests': 'transform',\n",
       " 'original': '/home/arjun/repos/MultiPL-E/datasets/../datasets/mbpp-typed/mbpp_602_first_repeated_char',\n",
       " 'prompt_terminology': 'reworded',\n",
       " 'stop_tokens': ['\\ndef', '\\n#', '\\nif', '\\nclass'],\n",
       " 'entry_point': 'first_repeated_char',\n",
       " 'test': '\\ndef check(candidate):\\n    assert first_repeated_char(\"abcabc\") == \"a\"\\n    assert first_repeated_char(\"abc\") == None\\n    assert first_repeated_char(\"123123\") == \"1\"\\ncheck(first_repeated_char)'}"
      ]
     },
     "execution_count": 2,
     "metadata": {},
     "output_type": "execute_result"
    }
   ],
   "execution_count": 2
  },
  {
   "metadata": {
    "ExecuteTime": {
     "end_time": "2024-06-19T00:29:39.103730Z",
     "start_time": "2024-06-19T00:29:39.099747Z"
    }
   },
   "cell_type": "code",
   "source": [
    "tests = mbpp.get_tests()\n",
    "tests[0]"
   ],
   "id": "4644784355a36137",
   "outputs": [
    {
     "data": {
      "text/plain": [
       "'assert first_repeated_char(\"abcabc\") == \"a\"\\nassert first_repeated_char(\"abc\") == None\\nassert first_repeated_char(\"123123\") == \"1\"'"
      ]
     },
     "execution_count": 3,
     "metadata": {},
     "output_type": "execute_result"
    }
   ],
   "execution_count": 3
  },
  {
   "metadata": {
    "ExecuteTime": {
     "end_time": "2024-06-19T00:29:40.156319Z",
     "start_time": "2024-06-19T00:29:40.146762Z"
    }
   },
   "cell_type": "code",
   "source": [
    "import json\n",
    "with open('mbpp.jsonl', 'w') as outfile:\n",
    "    for idx,entry in enumerate(mbpp_probs):\n",
    "        json.dump(entry, outfile)\n",
    "        outfile.write('\\n')"
   ],
   "id": "c62920d131d1cdf9",
   "outputs": [],
   "execution_count": 4
  },
  {
   "metadata": {
    "ExecuteTime": {
     "end_time": "2024-06-18T20:21:14.679993Z",
     "start_time": "2024-06-18T20:21:14.676938Z"
    }
   },
   "cell_type": "code",
   "source": "prompts[0]",
   "id": "68b0c118a22451a8",
   "outputs": [
    {
     "data": {
      "text/plain": [
       "'def first_repeated_char(str1):\\n  \"\"\"Write a python function to find the first repeated character in a given string.\"\"\"'"
      ]
     },
     "execution_count": 6,
     "metadata": {},
     "output_type": "execute_result"
    }
   ],
   "execution_count": 6
  },
  {
   "metadata": {
    "ExecuteTime": {
     "end_time": "2024-06-18T20:21:32.889532Z",
     "start_time": "2024-06-18T20:21:32.734648Z"
    }
   },
   "cell_type": "code",
   "source": "gen_tests = mbpp.get_generated_testcases()",
   "id": "62b1b5d749ebdcaa",
   "outputs": [
    {
     "ename": "FileNotFoundError",
     "evalue": "[Errno 2] No such file or directory: 'testcases/mbpp_generated_testcases'",
     "output_type": "error",
     "traceback": [
      "\u001B[0;31m---------------------------------------------------------------------------\u001B[0m",
      "\u001B[0;31mFileNotFoundError\u001B[0m                         Traceback (most recent call last)",
      "Cell \u001B[0;32mIn[7], line 1\u001B[0m\n\u001B[0;32m----> 1\u001B[0m gen_tests \u001B[38;5;241m=\u001B[39m \u001B[43mmbpp\u001B[49m\u001B[38;5;241;43m.\u001B[39;49m\u001B[43mget_generated_testcases\u001B[49m\u001B[43m(\u001B[49m\u001B[43m)\u001B[49m\n",
      "File \u001B[0;32m~/VScode/PromptOptimization/MBPPLoader.py:34\u001B[0m, in \u001B[0;36mMBPPLoader.get_generated_testcases\u001B[0;34m(self)\u001B[0m\n\u001B[1;32m     33\u001B[0m \u001B[38;5;28;01mdef\u001B[39;00m \u001B[38;5;21mget_generated_testcases\u001B[39m(\u001B[38;5;28mself\u001B[39m):\n\u001B[0;32m---> 34\u001B[0m     \u001B[38;5;28;01mwith\u001B[39;00m \u001B[38;5;28;43mopen\u001B[39;49m\u001B[43m(\u001B[49m\u001B[38;5;124;43m'\u001B[39;49m\u001B[38;5;124;43mtestcases/mbpp_generated_testcases\u001B[39;49m\u001B[38;5;124;43m'\u001B[39;49m\u001B[43m,\u001B[49m\u001B[43m \u001B[49m\u001B[38;5;124;43m'\u001B[39;49m\u001B[38;5;124;43mrb\u001B[39;49m\u001B[38;5;124;43m'\u001B[39;49m\u001B[43m)\u001B[49m \u001B[38;5;28;01mas\u001B[39;00m fp:\n\u001B[1;32m     35\u001B[0m         item_list \u001B[38;5;241m=\u001B[39m pickle\u001B[38;5;241m.\u001B[39mload(fp)\n\u001B[1;32m     36\u001B[0m     \u001B[38;5;28;01mdef\u001B[39;00m \u001B[38;5;21mfilter_list\u001B[39m(l):\n",
      "\u001B[0;31mFileNotFoundError\u001B[0m: [Errno 2] No such file or directory: 'testcases/mbpp_generated_testcases'"
     ]
    }
   ],
   "execution_count": 7
  },
  {
   "metadata": {},
   "cell_type": "code",
   "outputs": [],
   "execution_count": null,
   "source": "",
   "id": "2f7e324318681ab7"
  }
 ],
 "metadata": {
  "kernelspec": {
   "display_name": "Python 3",
   "language": "python",
   "name": "python3"
  },
  "language_info": {
   "codemirror_mode": {
    "name": "ipython",
    "version": 2
   },
   "file_extension": ".py",
   "mimetype": "text/x-python",
   "name": "python",
   "nbconvert_exporter": "python",
   "pygments_lexer": "ipython2",
   "version": "2.7.6"
  }
 },
 "nbformat": 4,
 "nbformat_minor": 5
}
