{
 "cells": [
  {
   "cell_type": "code",
   "id": "initial_id",
   "metadata": {
    "collapsed": true,
    "ExecuteTime": {
     "end_time": "2024-06-03T18:23:11.869837Z",
     "start_time": "2024-06-03T18:23:11.867153Z"
    }
   },
   "source": [
    "from actual_tests import get_testcases\n",
    "from orig_tests import get_testcases as get_orig_tests\n",
    "actual_tests = get_testcases()\n",
    "orig_tests = get_orig_tests()"
   ],
   "outputs": [],
   "execution_count": 21
  },
  {
   "metadata": {
    "ExecuteTime": {
     "end_time": "2024-06-03T18:23:14.559436Z",
     "start_time": "2024-06-03T18:23:14.556335Z"
    }
   },
   "cell_type": "code",
   "source": "print(actual_tests[1])",
   "id": "6f3785a3d62b8ba3",
   "outputs": [
    {
     "name": "stdout",
     "output_type": "stream",
     "text": [
      "[\"assert  separate_paren_groups('( ) (( )) (( )( ))') == ['()', '(())', '(()())']\"]\n"
     ]
    }
   ],
   "execution_count": 22
  },
  {
   "metadata": {
    "ExecuteTime": {
     "end_time": "2024-06-03T18:12:54.588145Z",
     "start_time": "2024-06-03T18:12:54.585259Z"
    }
   },
   "cell_type": "code",
   "source": "print(orig_tests[38])",
   "id": "37217e6d32919508",
   "outputs": [
    {
     "name": "stdout",
     "output_type": "stream",
     "text": [
      "['assert decode_cyclic(encode_cyclic(\"abc\")) == \"abc\"']\n"
     ]
    }
   ],
   "execution_count": 12
  },
  {
   "metadata": {
    "ExecuteTime": {
     "end_time": "2024-06-03T18:06:08.579255Z",
     "start_time": "2024-06-03T18:06:07.013635Z"
    }
   },
   "cell_type": "code",
   "source": [
    "from humaneval_loader import HumanEvalLoader\n",
    "human_eval = HumanEvalLoader().get_human_eval()"
   ],
   "id": "ae8e69c1d32f9d95",
   "outputs": [],
   "execution_count": 6
  },
  {
   "metadata": {
    "ExecuteTime": {
     "end_time": "2024-06-03T18:07:49.279067Z",
     "start_time": "2024-06-03T18:07:49.276447Z"
    }
   },
   "cell_type": "code",
   "source": "print(human_eval['test'][38]['test'])",
   "id": "c1fa0a8d62c68b50",
   "outputs": [
    {
     "name": "stdout",
     "output_type": "stream",
     "text": [
      "\n",
      "\n",
      "METADATA = {}\n",
      "\n",
      "\n",
      "def check(candidate):\n",
      "    from random import randint, choice\n",
      "    import string\n",
      "\n",
      "    letters = string.ascii_lowercase\n",
      "    for _ in range(100):\n",
      "        str = ''.join(choice(letters) for i in range(randint(10, 20)))\n",
      "        encoded_str = encode_cyclic(str)\n",
      "        assert candidate(encoded_str) == str\n",
      "\n",
      "\n"
     ]
    }
   ],
   "execution_count": 15
  },
  {
   "metadata": {
    "ExecuteTime": {
     "end_time": "2024-06-03T18:08:00.055341Z",
     "start_time": "2024-06-03T18:08:00.052483Z"
    }
   },
   "cell_type": "code",
   "source": "print(human_eval['test'][38]['prompt'])",
   "id": "cf1c9e48d6e4a201",
   "outputs": [
    {
     "name": "stdout",
     "output_type": "stream",
     "text": [
      "\n",
      "\n",
      "def encode_cyclic(s: str):\n",
      "    \"\"\"\n",
      "    returns encoded string by cycling groups of three characters.\n",
      "    \"\"\"\n",
      "    # split string to groups. Each of length 3.\n",
      "    groups = [s[(3 * i):min((3 * i + 3), len(s))] for i in range((len(s) + 2) // 3)]\n",
      "    # cycle elements in each group. Unless group has fewer elements than 3.\n",
      "    groups = [(group[1:] + group[0]) if len(group) == 3 else group for group in groups]\n",
      "    return \"\".join(groups)\n",
      "\n",
      "\n",
      "def decode_cyclic(s: str):\n",
      "    \"\"\"\n",
      "    takes as input string encoded with encode_cyclic function. Returns decoded string.\n",
      "    \"\"\"\n",
      "\n"
     ]
    }
   ],
   "execution_count": 16
  },
  {
   "metadata": {
    "ExecuteTime": {
     "end_time": "2024-06-03T18:15:55.605187Z",
     "start_time": "2024-06-03T18:15:55.601298Z"
    }
   },
   "cell_type": "code",
   "source": [
    "import json\n",
    "\n",
    "with open('tests.jsonl', 'r') as json_file:\n",
    "    json_list = list(json_file)\n",
    "all_tests = []\n",
    "for json_str in json_list:\n",
    "    result = json.loads(json_str)\n",
    "    all_tests.append(result)"
   ],
   "id": "91ddde285bb807aa",
   "outputs": [],
   "execution_count": 15
  },
  {
   "metadata": {
    "ExecuteTime": {
     "end_time": "2024-06-03T18:47:37.532898Z",
     "start_time": "2024-06-03T18:47:37.527292Z"
    }
   },
   "cell_type": "code",
   "source": [
    "with open('out.jsonl', 'w') as outfile:\n",
    "    for idx,entry in enumerate(all_tests):\n",
    "        entry['given_tests'] = actual_tests[idx]\n",
    "        json.dump(entry, outfile)\n",
    "        outfile.write('\\n')"
   ],
   "id": "52f12455930431eb",
   "outputs": [],
   "execution_count": 24
  },
  {
   "metadata": {
    "ExecuteTime": {
     "end_time": "2024-06-03T18:48:01.309723Z",
     "start_time": "2024-06-03T18:48:01.306332Z"
    }
   },
   "cell_type": "code",
   "source": [
    "with open('out.jsonl', 'r') as json_file:\n",
    "    json_list = list(json_file)\n",
    "all_tests2 = []\n",
    "for json_str in json_list:\n",
    "    result = json.loads(json_str)\n",
    "    all_tests2.append(result)"
   ],
   "id": "b1c0adf6c8ffe98a",
   "outputs": [],
   "execution_count": 25
  },
  {
   "metadata": {
    "ExecuteTime": {
     "end_time": "2024-06-03T18:53:02.518154Z",
     "start_time": "2024-06-03T18:53:02.515037Z"
    }
   },
   "cell_type": "code",
   "source": "all_tests[20]['given_tests']",
   "id": "6841f16739bdfbc",
   "outputs": [
    {
     "data": {
      "text/plain": [
       "['assert  find_closest_elements([1.0, 2.0, 3.0, 4.0, 5.0, 2.2]) == (2.0, 2.2)',\n",
       " 'assert  find_closest_elements([1.0, 2.0, 3.0, 4.0, 5.0, 2.0]) == (2.0, 2.0)']"
      ]
     },
     "execution_count": 35,
     "metadata": {},
     "output_type": "execute_result"
    }
   ],
   "execution_count": 35
  },
  {
   "metadata": {
    "ExecuteTime": {
     "end_time": "2024-06-19T18:20:54.947382Z",
     "start_time": "2024-06-19T18:20:51.853825Z"
    }
   },
   "cell_type": "code",
   "source": "",
   "id": "de9eb19a243c75aa",
   "outputs": [],
   "execution_count": 1
  },
  {
   "metadata": {
    "ExecuteTime": {
     "end_time": "2024-06-13T02:44:30.074310Z",
     "start_time": "2024-06-13T02:44:30.069955Z"
    }
   },
   "cell_type": "code",
   "source": [
    "## generating mbpp with default testcases\n",
    "from MBPPLoader import MBPPLoader\n",
    "mbpp = MBPPLoader()\n",
    "dataset = mbpp.get_dataset()\n",
    "prompts = mbpp.get_prompts()\n",
    "func_names = mbpp.get_func_names()\n",
    "gen_tests = mbpp.get_generated_testcases()\n",
    "mbpp_probs = []\n",
    "for idx,entry in enumerate(dataset):\n",
    "    # print(entry)\n",
    "    func_name = func_names[idx]\n",
    "    # print(func_name)\n",
    "    tests = '\\ndef check(candidate):\\n    ' + '\\n    '.join(entry['test_list']) + f'\\ncheck({func_name})'\n",
    "    mbpp_probs.append({\n",
    "        'task_id': \"MBPP/\" + str(entry['task_id']),\n",
    "        'prompt': prompts[idx],\n",
    "        'entry_point': func_name,\n",
    "        'test': tests,\n",
    "        'given_tests': [entry['test_list'][0]],\n",
    "    })\n",
    "import json\n",
    "with open('mbpp.jsonl', 'w') as outfile:\n",
    "    for idx,entry in enumerate(mbpp_probs):\n",
    "        json.dump(entry, outfile)\n",
    "        outfile.write('\\n')"
   ],
   "id": "57f72e13bae05afa",
   "outputs": [],
   "execution_count": 14
  },
  {
   "metadata": {
    "ExecuteTime": {
     "end_time": "2024-06-13T02:44:30.550555Z",
     "start_time": "2024-06-13T02:44:30.547676Z"
    }
   },
   "cell_type": "code",
   "source": "prompts = mbpp.get_prompts()",
   "id": "f39ad3d398352130",
   "outputs": [],
   "execution_count": 15
  },
  {
   "metadata": {
    "ExecuteTime": {
     "end_time": "2024-06-13T02:44:30.914953Z",
     "start_time": "2024-06-13T02:44:30.911906Z"
    }
   },
   "cell_type": "code",
   "source": "mbpp_probs[0]",
   "id": "593ed34301af8540",
   "outputs": [
    {
     "data": {
      "text/plain": [
       "{'task_id': 'MBPP/602',\n",
       " 'prompt': 'def first_repeated_char(str1):\\n  \"\"\"Write a python function to find the first repeated character in a given string.\"\"\"',\n",
       " 'entry_point': 'first_repeated_char',\n",
       " 'test': '\\ndef check(candidate):\\n    assert first_repeated_char(\"abcabc\") == \"a\"\\n    assert first_repeated_char(\"abc\") == None\\n    assert first_repeated_char(\"123123\") == \"1\"\\ncheck(first_repeated_char)',\n",
       " 'given_tests': ['assert first_repeated_char(\"abcabc\") == \"a\"']}"
      ]
     },
     "execution_count": 16,
     "metadata": {},
     "output_type": "execute_result"
    }
   ],
   "execution_count": 16
  },
  {
   "metadata": {
    "ExecuteTime": {
     "end_time": "2024-06-13T02:44:31.492419Z",
     "start_time": "2024-06-13T02:44:31.486306Z"
    }
   },
   "cell_type": "code",
   "source": "",
   "id": "256c9bd852bcb172",
   "outputs": [],
   "execution_count": 17
  },
  {
   "metadata": {
    "ExecuteTime": {
     "end_time": "2024-06-13T02:44:32.132752Z",
     "start_time": "2024-06-13T02:44:32.128620Z"
    }
   },
   "cell_type": "code",
   "source": [
    "with open('mbpp.jsonl', 'r') as json_file:\n",
    "    json_list = list(json_file)\n",
    "all_tests2 = []\n",
    "for json_str in json_list:\n",
    "    result = json.loads(json_str)\n",
    "    all_tests2.append(result)"
   ],
   "id": "63b76fb91190eadb",
   "outputs": [],
   "execution_count": 18
  },
  {
   "metadata": {
    "ExecuteTime": {
     "end_time": "2024-06-13T02:47:41.078742Z",
     "start_time": "2024-06-13T02:47:41.075967Z"
    }
   },
   "cell_type": "code",
   "source": "print(all_tests2[1]['test'])",
   "id": "a62d1c36e0feca5f",
   "outputs": [
    {
     "name": "stdout",
     "output_type": "stream",
     "text": [
      "\n",
      "def check(candidate):\n",
      "    assert get_ludic(10) == [1, 2, 3, 5, 7]\n",
      "    assert get_ludic(25) == [1, 2, 3, 5, 7, 11, 13, 17, 23, 25]\n",
      "    assert get_ludic(45) == [1, 2, 3, 5, 7, 11, 13, 17, 23, 25, 29, 37, 41, 43]\n",
      "check(get_ludic)\n"
     ]
    }
   ],
   "execution_count": 22
  },
  {
   "metadata": {
    "ExecuteTime": {
     "end_time": "2024-06-13T15:19:59.983180Z",
     "start_time": "2024-06-13T15:19:59.979508Z"
    }
   },
   "cell_type": "code",
   "source": "sum([len(a.split('assert')) -1 for a in test])/len(test)",
   "id": "49190584aff92283",
   "outputs": [
    {
     "data": {
      "text/plain": [
       "3.100702576112412"
      ]
     },
     "execution_count": 6,
     "metadata": {},
     "output_type": "execute_result"
    }
   ],
   "execution_count": 6
  },
  {
   "metadata": {
    "ExecuteTime": {
     "end_time": "2024-06-19T18:24:55.931799Z",
     "start_time": "2024-06-19T18:24:52.901212Z"
    }
   },
   "cell_type": "code",
   "source": "",
   "id": "389b65d998320c07",
   "outputs": [
    {
     "ename": "FileNotFoundError",
     "evalue": "[Errno 2] No such file or directory: 'testcases/mbpp_generated_testcases'",
     "output_type": "error",
     "traceback": [
      "\u001B[0;31m---------------------------------------------------------------------------\u001B[0m",
      "\u001B[0;31mFileNotFoundError\u001B[0m                         Traceback (most recent call last)",
      "Cell \u001B[0;32mIn[2], line 8\u001B[0m\n\u001B[1;32m      6\u001B[0m prompts \u001B[38;5;241m=\u001B[39m mbpp\u001B[38;5;241m.\u001B[39mget_prompts()\n\u001B[1;32m      7\u001B[0m func_names \u001B[38;5;241m=\u001B[39m mbpp\u001B[38;5;241m.\u001B[39mget_func_names()\n\u001B[0;32m----> 8\u001B[0m generated_tests \u001B[38;5;241m=\u001B[39m \u001B[43mmbpp\u001B[49m\u001B[38;5;241;43m.\u001B[39;49m\u001B[43mget_generated_testcases\u001B[49m\u001B[43m(\u001B[49m\u001B[43m)\u001B[49m\n\u001B[1;32m      9\u001B[0m mbpp_probs \u001B[38;5;241m=\u001B[39m []\n\u001B[1;32m     10\u001B[0m \u001B[38;5;28;01mfor\u001B[39;00m idx,entry \u001B[38;5;129;01min\u001B[39;00m \u001B[38;5;28menumerate\u001B[39m(dataset):\n\u001B[1;32m     11\u001B[0m     \u001B[38;5;66;03m# print(entry)\u001B[39;00m\n",
      "File \u001B[0;32m~/VScode/PromptOptimization/MBPPLoader.py:83\u001B[0m, in \u001B[0;36mMBPPLoader.get_generated_testcases\u001B[0;34m(self)\u001B[0m\n\u001B[1;32m     82\u001B[0m \u001B[38;5;28;01mdef\u001B[39;00m \u001B[38;5;21mget_generated_testcases\u001B[39m(\u001B[38;5;28mself\u001B[39m):\n\u001B[0;32m---> 83\u001B[0m     \u001B[38;5;28;01mwith\u001B[39;00m \u001B[38;5;28;43mopen\u001B[39;49m\u001B[43m(\u001B[49m\u001B[38;5;124;43m'\u001B[39;49m\u001B[38;5;124;43mtestcases/mbpp_generated_testcases\u001B[39;49m\u001B[38;5;124;43m'\u001B[39;49m\u001B[43m,\u001B[49m\u001B[43m \u001B[49m\u001B[38;5;124;43m'\u001B[39;49m\u001B[38;5;124;43mrb\u001B[39;49m\u001B[38;5;124;43m'\u001B[39;49m\u001B[43m)\u001B[49m \u001B[38;5;28;01mas\u001B[39;00m fp:\n\u001B[1;32m     84\u001B[0m         item_list \u001B[38;5;241m=\u001B[39m pickle\u001B[38;5;241m.\u001B[39mload(fp)\n\u001B[1;32m     85\u001B[0m     \u001B[38;5;28;01mdef\u001B[39;00m \u001B[38;5;21mfilter_list\u001B[39m(l):\n",
      "\u001B[0;31mFileNotFoundError\u001B[0m: [Errno 2] No such file or directory: 'testcases/mbpp_generated_testcases'"
     ]
    }
   ],
   "execution_count": 2
  },
  {
   "metadata": {},
   "cell_type": "code",
   "outputs": [],
   "execution_count": null,
   "source": "",
   "id": "2fee8d5333fe434d"
  }
 ],
 "metadata": {
  "kernelspec": {
   "display_name": "Python 3",
   "language": "python",
   "name": "python3"
  },
  "language_info": {
   "codemirror_mode": {
    "name": "ipython",
    "version": 2
   },
   "file_extension": ".py",
   "mimetype": "text/x-python",
   "name": "python",
   "nbconvert_exporter": "python",
   "pygments_lexer": "ipython2",
   "version": "2.7.6"
  }
 },
 "nbformat": 4,
 "nbformat_minor": 5
}
