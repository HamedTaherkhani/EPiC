{
 "cells": [
  {
   "cell_type": "code",
   "id": "initial_id",
   "metadata": {
    "collapsed": true,
    "ExecuteTime": {
     "end_time": "2024-07-31T21:15:49.331796Z",
     "start_time": "2024-07-31T21:15:49.327099Z"
    }
   },
   "source": [
    "from actual_tests1 import get_testcases\n",
    "from orig_tests import get_testcases as get_orig_tests\n",
    "actual_tests = get_testcases()\n",
    "orig_tests = get_orig_tests()"
   ],
   "outputs": [],
   "execution_count": 1
  },
  {
   "metadata": {
    "ExecuteTime": {
     "end_time": "2024-07-31T21:15:49.825072Z",
     "start_time": "2024-07-31T21:15:49.821941Z"
    }
   },
   "cell_type": "code",
   "source": "print(actual_tests[1])",
   "id": "6f3785a3d62b8ba3",
   "outputs": [
    {
     "name": "stdout",
     "output_type": "stream",
     "text": [
      "[\"assert separate_paren_groups('( ) (( )) (( )( ))') == ['()', '(())', '(()())']\"]\n"
     ]
    }
   ],
   "execution_count": 2
  },
  {
   "metadata": {
    "ExecuteTime": {
     "end_time": "2024-07-31T21:15:50.180032Z",
     "start_time": "2024-07-31T21:15:50.177222Z"
    }
   },
   "cell_type": "code",
   "source": "print(orig_tests[38])",
   "id": "bf96aee8075173a",
   "outputs": [
    {
     "name": "stdout",
     "output_type": "stream",
     "text": [
      "['assert decode_cyclic(encode_cyclic(\"abc\")) == \"abc\"']\n"
     ]
    }
   ],
   "execution_count": 3
  },
  {
   "metadata": {
    "ExecuteTime": {
     "end_time": "2024-07-31T21:15:55.752639Z",
     "start_time": "2024-07-31T21:15:50.545123Z"
    }
   },
   "cell_type": "code",
   "source": [
    "from humaneval_loader import HumanEvalLoader\n",
    "human_eval = HumanEvalLoader().get_human_eval()"
   ],
   "id": "f9e6863470d07cdd",
   "outputs": [
    {
     "name": "stderr",
     "output_type": "stream",
     "text": [
      "2024-07-31 17:15:51.753556: I tensorflow/core/util/port.cc:113] oneDNN custom operations are on. You may see slightly different numerical results due to floating-point round-off errors from different computation orders. To turn them off, set the environment variable `TF_ENABLE_ONEDNN_OPTS=0`.\n",
      "2024-07-31 17:15:51.774178: E external/local_xla/xla/stream_executor/cuda/cuda_dnn.cc:9261] Unable to register cuDNN factory: Attempting to register factory for plugin cuDNN when one has already been registered\n",
      "2024-07-31 17:15:51.774201: E external/local_xla/xla/stream_executor/cuda/cuda_fft.cc:607] Unable to register cuFFT factory: Attempting to register factory for plugin cuFFT when one has already been registered\n",
      "2024-07-31 17:15:51.774735: E external/local_xla/xla/stream_executor/cuda/cuda_blas.cc:1515] Unable to register cuBLAS factory: Attempting to register factory for plugin cuBLAS when one has already been registered\n",
      "2024-07-31 17:15:51.778592: I tensorflow/core/platform/cpu_feature_guard.cc:182] This TensorFlow binary is optimized to use available CPU instructions in performance-critical operations.\n",
      "To enable the following instructions: AVX2 AVX_VNNI FMA, in other operations, rebuild TensorFlow with the appropriate compiler flags.\n",
      "2024-07-31 17:15:52.212475: W tensorflow/compiler/tf2tensorrt/utils/py_utils.cc:38] TF-TRT Warning: Could not find TensorRT\n"
     ]
    }
   ],
   "execution_count": 4
  },
  {
   "metadata": {},
   "cell_type": "code",
   "outputs": [],
   "execution_count": null,
   "source": "print(human_eval['test'][38]['test'])",
   "id": "c7e21da24e779f05"
  },
  {
   "metadata": {},
   "cell_type": "code",
   "outputs": [],
   "execution_count": null,
   "source": "print(human_eval['test'][38]['prompt'])",
   "id": "8e09ae8cd7b2eee"
  },
  {
   "metadata": {
    "ExecuteTime": {
     "end_time": "2024-07-31T21:16:14.531457Z",
     "start_time": "2024-07-31T21:16:14.527614Z"
    }
   },
   "cell_type": "code",
   "source": [
    "import json\n",
    "\n",
    "with open('tests.jsonl', 'r') as json_file:\n",
    "    json_list = list(json_file)\n",
    "all_tests = []\n",
    "for json_str in json_list:\n",
    "    result = json.loads(json_str)\n",
    "    all_tests.append(result)"
   ],
   "id": "f18828717e83f113",
   "outputs": [],
   "execution_count": 5
  },
  {
   "metadata": {
    "ExecuteTime": {
     "end_time": "2024-07-31T21:16:27.204576Z",
     "start_time": "2024-07-31T21:16:27.200442Z"
    }
   },
   "cell_type": "code",
   "source": [
    "with open('out1.jsonl', 'w') as outfile:\n",
    "    for idx,entry in enumerate(all_tests):\n",
    "        entry['given_tests'] = actual_tests[idx]\n",
    "        json.dump(entry, outfile)\n",
    "        outfile.write('\\n')"
   ],
   "id": "85dc91fce02795f4",
   "outputs": [],
   "execution_count": 6
  },
  {
   "metadata": {
    "ExecuteTime": {
     "end_time": "2024-07-31T21:16:35.455376Z",
     "start_time": "2024-07-31T21:16:35.451229Z"
    }
   },
   "cell_type": "code",
   "source": [
    "with open('out1.jsonl', 'r') as json_file:\n",
    "    json_list = list(json_file)\n",
    "all_tests2 = []\n",
    "for json_str in json_list:\n",
    "    result = json.loads(json_str)\n",
    "    all_tests2.append(result)"
   ],
   "id": "7444aaa7aa01e9b3",
   "outputs": [],
   "execution_count": 7
  },
  {
   "metadata": {
    "ExecuteTime": {
     "end_time": "2024-07-31T21:16:35.931229Z",
     "start_time": "2024-07-31T21:16:35.927481Z"
    }
   },
   "cell_type": "code",
   "source": "all_tests[50]['given_tests']",
   "id": "b46c466359f52aa",
   "outputs": [
    {
     "data": {
      "text/plain": [
       "['assert find_closest_elements([1.0, 2.0, 3.0, 4.0, 5.0, 2.2]) == (2.0, 2.2)',\n",
       " 'assert find_closest_elements([1.0, 2.0, 3.0, 4.0, 5.0, 2.0]) == (2.0, 2.0)']"
      ]
     },
     "execution_count": 8,
     "metadata": {},
     "output_type": "execute_result"
    }
   ],
   "execution_count": 8
  },
  {
   "metadata": {},
   "cell_type": "code",
   "outputs": [],
   "execution_count": null,
   "source": "",
   "id": "1f1b4c23de8b276d"
  },
  {
   "metadata": {},
   "cell_type": "code",
   "outputs": [],
   "execution_count": null,
   "source": [
    "## generating mbpp with default testcases\n",
    "from MBPPLoader import MBPPLoader\n",
    "mbpp = MBPPLoader()\n",
    "dataset = mbpp.get_dataset()\n",
    "prompts = mbpp.get_prompts()\n",
    "func_names = mbpp.get_func_names()\n",
    "gen_tests = mbpp.get_generated_testcases()\n",
    "mbpp_probs = []\n",
    "for idx,entry in enumerate(dataset):\n",
    "    # print(entry)\n",
    "    func_name = func_names[idx]\n",
    "    # print(func_name)\n",
    "    tests = '\\ndef check(candidate):\\n    ' + '\\n    '.join(entry['test_list']) + f'\\ncheck({func_name})'\n",
    "    mbpp_probs.append({\n",
    "        'task_id': \"MBPP/\" + str(entry['task_id']),\n",
    "        'prompt': prompts[idx],\n",
    "        'entry_point': func_name,\n",
    "        'test': tests,\n",
    "        'given_tests': [entry['test_list'][0]],\n",
    "    })\n",
    "import json\n",
    "with open('mbpp.jsonl', 'w') as outfile:\n",
    "    for idx,entry in enumerate(mbpp_probs):\n",
    "        json.dump(entry, outfile)\n",
    "        outfile.write('\\n')"
   ],
   "id": "8b7a3928aac7fc37"
  },
  {
   "metadata": {},
   "cell_type": "code",
   "outputs": [],
   "execution_count": null,
   "source": "prompts = mbpp.get_prompts()",
   "id": "d9efe8ce60d59c3f"
  },
  {
   "metadata": {},
   "cell_type": "code",
   "outputs": [],
   "execution_count": null,
   "source": "mbpp_probs[0]",
   "id": "91dbaf7bb4f73466"
  },
  {
   "metadata": {},
   "cell_type": "code",
   "outputs": [],
   "execution_count": null,
   "source": "",
   "id": "6ab5fdef18a89994"
  },
  {
   "metadata": {},
   "cell_type": "code",
   "outputs": [],
   "execution_count": null,
   "source": [
    "with open('mbpp.jsonl', 'r') as json_file:\n",
    "    json_list = list(json_file)\n",
    "all_tests2 = []\n",
    "for json_str in json_list:\n",
    "    result = json.loads(json_str)\n",
    "    all_tests2.append(result)"
   ],
   "id": "c7752725eb6ee313"
  },
  {
   "metadata": {},
   "cell_type": "code",
   "outputs": [],
   "execution_count": null,
   "source": "print(all_tests2[1]['test'])",
   "id": "fde33448492da176"
  },
  {
   "metadata": {},
   "cell_type": "code",
   "outputs": [],
   "execution_count": null,
   "source": "sum([len(a.split('assert')) -1 for a in test])/len(test)",
   "id": "f8e7e197dcf935d8"
  },
  {
   "metadata": {},
   "cell_type": "code",
   "outputs": [],
   "execution_count": null,
   "source": "",
   "id": "fa35c322942683a7"
  },
  {
   "metadata": {},
   "cell_type": "code",
   "outputs": [],
   "execution_count": null,
   "source": "",
   "id": "a85ebb4e4ce88d62"
  }
 ],
 "metadata": {
  "kernelspec": {
   "display_name": "Python 3",
   "language": "python",
   "name": "python3"
  },
  "language_info": {
   "codemirror_mode": {
    "name": "ipython",
    "version": 2
   },
   "file_extension": ".py",
   "mimetype": "text/x-python",
   "name": "python",
   "nbconvert_exporter": "python",
   "pygments_lexer": "ipython2",
   "version": "2.7.6"
  }
 },
 "nbformat": 4,
 "nbformat_minor": 5
}
